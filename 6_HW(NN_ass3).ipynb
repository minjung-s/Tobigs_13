{
 "cells": [
  {
   "cell_type": "code",
   "execution_count": 1,
   "metadata": {},
   "outputs": [
    {
     "name": "stdout",
     "output_type": "stream",
     "text": [
      "U_ 1\n",
      "[{'weights': [0.13436424411240122, 0.8474337369372327, 0.763774618976614]}]\n",
      "U_ 2\n",
      "[{'weights': [0.2550690257394217, 0.49543508709194095]}, {'weights': [0.4494910647887381, 0.651592972722763]}]\n"
     ]
    }
   ],
   "source": [
    "from random import seed\n",
    "from random import random\n",
    "import numpy as np\n",
    " \n",
    "# 네트워크 초기 설정\n",
    "def initialize_network(n_inputs, n_hidden, n_outputs):\n",
    "    network = list()\n",
    "    hidden_layer = [{'weights':[random() for i in range(n_inputs + 1)]} for i in range(n_hidden)]\n",
    "    network.append(hidden_layer)\n",
    "    output_layer = [{'weights':[random() for i in range(n_hidden + 1)]} for i in range(n_outputs)]\n",
    "    network.append(output_layer)\n",
    "    return network\n",
    " \n",
    "seed(1)\n",
    "network = initialize_network(2, 1, 2)\n",
    "\n",
    "for i,layer in enumerate(network):\n",
    "    print(\"U_\",i+1)\n",
    "    print(layer)\n",
    "    "
   ]
  },
  {
   "cell_type": "markdown",
   "metadata": {},
   "source": [
    "#### initialize_network(n_inputs, n_hidden, n_outputs):\n",
    "initialize_network(2, 1, 2) -> \n",
    "3(2+bias 1)개의 input (layer층 = list), wieght 값은 random\n",
    "2(1+bias 1)개의 hidden (layer층 = list), wieght값은 random\n",
    "2개의 output layer (layer층 = list)\n",
    "\n",
    "{input(x0,x1,x2)->hidden(z1) \\\n",
    "'weights': \\\n",
    "[U1_10 : 0.13436424411240122,\\\n",
    "U1_11 : 0.8474337369372327,\\\n",
    "U1_12 : 0.763774618976614]}\\\n",
    "{hidden(z0,z1) -> output(o1)\\\n",
    "'weights': \\\n",
    "[U2_10 : 0.2550690257394217, \\\n",
    "U2_11 : 0.49543508709194095]}\\\n",
    "{hidden(z0,z1) -> output(o2)\\\n",
    "'weights': \\\n",
    "[U2_20 : 0.4494910647887381, \\\n",
    "U2_21 : 0.651592972722763]}"
   ]
  },
  {
   "cell_type": "code",
   "execution_count": 2,
   "metadata": {},
   "outputs": [
    {
     "data": {
      "text/plain": [
       "{'weights': [0.4494910647887381, 0.651592972722763]}"
      ]
     },
     "execution_count": 2,
     "metadata": {},
     "output_type": "execute_result"
    }
   ],
   "source": [
    "network[1][-1]"
   ]
  },
  {
   "cell_type": "code",
   "execution_count": 3,
   "metadata": {},
   "outputs": [],
   "source": [
    "def activate(weights, inputs):\n",
    "    # print(weights, inputs)\n",
    "    activation = weights[-1] #weight 글자 제외하고 값만 list로 반환\n",
    "    #print(activation)\n",
    "    for i in range(len(weights)-1):\n",
    "        activation += inputs[i]*weights[i]  # 순전파 진행 \n",
    "    return activation\n",
    "\n",
    "def sigmoid(activation):\n",
    "    activation = -1*activation\n",
    "    return 1 / (1 + np.exp(activation)) # 시그모이드 구현\n",
    "\n",
    "def forward_propagate(network, row):\n",
    "    inputs = row\n",
    "    for layer in network:\n",
    "        new_inputs = []\n",
    "        for neuron in layer:\n",
    "            activation = activate(neuron['weights'], inputs) \n",
    "            # print(sigmoid(activation))\n",
    "            neuron['output'] = sigmoid(activation) # 나온 계산 값을 그대로 쓰나요? 아니용! 활성함수 거쳐야지이~\n",
    "            new_inputs.append(neuron['output']) # new_input은 다음 히든층에 들어갈 값이죠?\n",
    "        inputs = new_inputs\n",
    "    return inputs"
   ]
  },
  {
   "cell_type": "markdown",
   "metadata": {},
   "source": [
    "**여기까지는 순전파 학습과정이었습니다. 이 과정이 끝나면 가중치가 바뀌나요?  \n",
    "답변을 답변의 근거 코딩 결과와 함께 보여주세요.**"
   ]
  },
  {
   "cell_type": "code",
   "execution_count": 4,
   "metadata": {},
   "outputs": [
    {
     "data": {
      "text/plain": [
       "[[{'weights': [0.13436424411240122, 0.8474337369372327, 0.763774618976614]}],\n",
       " [{'weights': [0.2550690257394217, 0.49543508709194095]},\n",
       "  {'weights': [0.4494910647887381, 0.651592972722763]}]]"
      ]
     },
     "execution_count": 4,
     "metadata": {},
     "output_type": "execute_result"
    }
   ],
   "source": [
    "network"
   ]
  },
  {
   "cell_type": "markdown",
   "metadata": {},
   "source": [
    "forward propagation은 weight에 영향을 주지 않는다"
   ]
  },
  {
   "cell_type": "code",
   "execution_count": 5,
   "metadata": {},
   "outputs": [
    {
     "name": "stdout",
     "output_type": "stream",
     "text": [
      "[0.6629970129852887, 0.7253160725279748]\n"
     ]
    }
   ],
   "source": [
    "row = [1, 0, -1]\n",
    "output = forward_propagate(network, row)\n",
    "print(output)"
   ]
  },
  {
   "cell_type": "code",
   "execution_count": 15,
   "metadata": {},
   "outputs": [],
   "source": [
    "def sigmoid_derivative(output):\n",
    "    return output*(1-output) # 시그모이드 미분\n",
    "\n",
    "def backward_propagate_error(network, expected):\n",
    "    for i in reversed(range(len(network))):\n",
    "        layer = network[i]\n",
    "        errors = []\n",
    "        if i != len(network)-1:# 출력단이 아닌 경우\n",
    "            for j in range(len(layer)):\n",
    "                error = 0.0\n",
    "                for neuron in network[i + 1]:\n",
    "                    error += (neuron['weights'][j] * neuron['delta'])\n",
    "                errors.append(error) \n",
    "        else:#출력단인 경우\n",
    "            for j in range(len(layer)):\n",
    "                neuron = layer[j]\n",
    "                errors.append(expected[j]-neuron['output'])\n",
    "                # 역전파시 오차는 어떻게 설정했나요?\n",
    "                #\n",
    "        for j in range(len(layer)):\n",
    "            neuron = layer[j]\n",
    "            neuron['delta'] = errors[i]*sigmoid_derivative(neuron['output']) # 시그모이드 함수를 사용한 역전파 "
   ]
  },
  {
   "cell_type": "code",
   "execution_count": 16,
   "metadata": {},
   "outputs": [
    {
     "name": "stdout",
     "output_type": "stream",
     "text": [
      "[{'weights': [1.2761067582605141, -1.9164102920114108, -0.290011267847082], 'output': 0.9158042936008927, 'delta': 0.010943757640362116}, {'weights': [1.141085863492269, -1.8029866719781475, 0.160961391734561], 'output': 0.8904807883752178, 'delta': 0.013841676961410757}]\n",
      "[{'weights': [2.212459179543436, 0.31699049750288, -1.1462829209469199], 'output': 0.7527649919102626, 'delta': 0.03705418908297403}, {'weights': [1.888282529986173, 1.0191338262091572, -1.20310315851855], 'output': 0.800901524996959, 'delta': 0.031747898832491565}]\n"
     ]
    }
   ],
   "source": [
    "expected = [0, 1]\n",
    "\n",
    "backward_propagate_error(network, expected)\n",
    "for layer in network:\n",
    "    print(layer)"
   ]
  },
  {
   "cell_type": "markdown",
   "metadata": {},
   "source": [
    "delta 실제 값"
   ]
  },
  {
   "cell_type": "code",
   "execution_count": 46,
   "metadata": {},
   "outputs": [],
   "source": [
    "from numpy import asarray\n",
    "def weights_update(network, row, l_rate):\n",
    "    for i in range(len(network)):\n",
    "        inputs = row[:-1]\n",
    "        if i != 0:\n",
    "            inputs = [neuron['output'] for neuron in network[i - 1]]\n",
    "        for neuron in network[i]:\n",
    "            for j in range(len(inputs)):\n",
    "                neuron['weights'][j] += l_rate * neuron['delta'] * inputs[j]\n",
    "            neuron['weights'][-1] += l_rate *neuron['delta']  # 퍼셉트론 학습 규칙\n",
    "            \n",
    "def mean_squared_error(y,t):\n",
    "    sum = 0\n",
    "    for i in range(len(y)):\n",
    "        sum += (y[i]-t[i])**2\n",
    "    return 0.5* (sum**0.5)         \n",
    "\n",
    "def train_network(network, train, l_rate, n_epoch, n_outputs):\n",
    "    for epoch in range(n_epoch):\n",
    "        sum_error = 0\n",
    "        for row in train:\n",
    "            outputs = forward_propagate(network, row) # 순전파 \n",
    "            expected = [0 for i in range(n_outputs)]\n",
    "            expected[row[-1]] = 1\n",
    "            expected = np.array(expected)\n",
    "            outputs = np.array(outputs)\n",
    "            sum_error += (1/2) * np.linalg.norm(expected - outputs, axis=0, ord=2)\n",
    "            #print(mean_squared_error(expected,outputs))\n",
    "            #sum_error += 1/2*sum([(expected[i]-outputs[i])**2 for i in range(len(expected))])\n",
    "            #sum_error += mean_squared_error(expected ,outputs) # 예측값의 오차 합\n",
    "            backward_propagate_error(network, expected)\n",
    "            weights_update(network, row, l_rate)\n",
    "        print('>epoch=%d, lrate=%.3f, error=%.3f' % (epoch, l_rate, sum_error))"
   ]
  },
  {
   "cell_type": "code",
   "execution_count": 47,
   "metadata": {},
   "outputs": [],
   "source": [
    "seed(1)\n",
    "dataset = [[2.7810836,2.550537003,0],\n",
    "    [1.465489372,2.362125076,0],\n",
    "    [3.396561688,4.400293529,0],\n",
    "    [1.38807019,1.850220317,0],\n",
    "    [3.06407232,3.005305973,0],\n",
    "    [7.627531214,2.759262235,1],\n",
    "    [5.332441248,2.088626775,1],\n",
    "    [6.922596716,1.77106367,1],\n",
    "    [8.675418651,-0.242068655,1],\n",
    "    [7.673756466,3.508563011,1]]"
   ]
  },
  {
   "cell_type": "code",
   "execution_count": 48,
   "metadata": {},
   "outputs": [
    {
     "name": "stdout",
     "output_type": "stream",
     "text": [
      ">epoch=0, lrate=0.500, error=3.824\n",
      ">epoch=1, lrate=0.500, error=3.671\n",
      ">epoch=2, lrate=0.500, error=3.616\n",
      ">epoch=3, lrate=0.500, error=3.597\n",
      ">epoch=4, lrate=0.500, error=3.590\n",
      ">epoch=5, lrate=0.500, error=3.587\n",
      ">epoch=6, lrate=0.500, error=3.585\n",
      ">epoch=7, lrate=0.500, error=3.582\n",
      ">epoch=8, lrate=0.500, error=3.577\n",
      ">epoch=9, lrate=0.500, error=3.568\n",
      ">epoch=10, lrate=0.500, error=3.551\n",
      ">epoch=11, lrate=0.500, error=3.521\n",
      ">epoch=12, lrate=0.500, error=3.471\n",
      ">epoch=13, lrate=0.500, error=3.388\n",
      ">epoch=14, lrate=0.500, error=3.300\n",
      ">epoch=15, lrate=0.500, error=3.277\n",
      ">epoch=16, lrate=0.500, error=3.281\n",
      ">epoch=17, lrate=0.500, error=3.296\n",
      ">epoch=18, lrate=0.500, error=3.324\n",
      "[{'weights': [-0.9351774993622829, 0.8942275112432068, 0.7474733609442594], 'output': 0.0462341597674365, 'delta': -0.0073138782985926135}, {'weights': [-0.8232797416669756, 0.7287134132641059, 0.4898622990021188], 'output': 0.04743381649014043, 'delta': -0.0074942163254784365}]\n",
      "[{'weights': [-0.4712757920492826, -0.13380707812229384, 0.3734915141556517], 'output': 0.5736059151584356, 'delta': 0.0971276309822537}, {'weights': [-1.2630636079219797, -0.22962359055558557, 0.534529030433185], 'output': 0.6028834347220564, 'delta': 0.09507566202322353}]\n"
     ]
    }
   ],
   "source": [
    "n_inputs = len(dataset[0])-1 # 뉴럴렛의 입력노드로 뭐가 들어가죠? 그럼 입력 노드의 개수는?\n",
    "n_outputs = 2 # 뉴럴렛의 출력노드의 개수는 뭐라고 했죠? :class의 개수용!\n",
    "network = initialize_network(n_inputs, 2, n_outputs)\n",
    "\n",
    "train_network(network, dataset, 0.5 ,19 ,n_outputs) # 자유롭게 설정하고 최적을 찾아보세요.\n",
    "\n",
    "# 학습된(최적화)된 네트워크가 초기 네트워크와 달리 어떻게 변하였는지 출력하시오. (layer별로,hint : for문))\n",
    "backward_propagate_error(network, expected)\n",
    "for layer in network:\n",
    "    print(layer)"
   ]
  },
  {
   "cell_type": "code",
   "execution_count": 56,
   "metadata": {},
   "outputs": [],
   "source": [
    "# 학습한 네트워크로 예측값을 뽑아보자.\n",
    "\n",
    "def predict(network, row):\n",
    "    outputs = forward_propagate(network, row)\n",
    "    return outputs.index(max(outputs)) # 순전파 결과에서 어떤것이 최종 아웃풋이 되나요?"
   ]
  },
  {
   "cell_type": "code",
   "execution_count": 57,
   "metadata": {},
   "outputs": [
    {
     "name": "stdout",
     "output_type": "stream",
     "text": [
      "실제값=0, 예측값=0\n",
      "실제값=0, 예측값=0\n",
      "실제값=0, 예측값=0\n",
      "실제값=0, 예측값=0\n",
      "실제값=0, 예측값=0\n",
      "실제값=1, 예측값=1\n",
      "실제값=1, 예측값=1\n",
      "실제값=1, 예측값=1\n",
      "실제값=1, 예측값=1\n",
      "실제값=1, 예측값=1\n"
     ]
    }
   ],
   "source": [
    "# 네트워크가 잘 학습되었는지 확인해보자. \n",
    "\n",
    "for row in dataset:\n",
    "    prediction = predict(network,row) # 앞서 최적(학습)시킨 네트워크로 잘 학습되었는지 평가 \n",
    "    print('실제값=%d, 예측값=%d' % (row[-1], prediction))"
   ]
  }
 ],
 "metadata": {
  "kernelspec": {
   "display_name": "Python 3",
   "language": "python",
   "name": "python3"
  },
  "language_info": {
   "codemirror_mode": {
    "name": "ipython",
    "version": 3
   },
   "file_extension": ".py",
   "mimetype": "text/x-python",
   "name": "python",
   "nbconvert_exporter": "python",
   "pygments_lexer": "ipython3",
   "version": "3.7.4"
  }
 },
 "nbformat": 4,
 "nbformat_minor": 2
}
