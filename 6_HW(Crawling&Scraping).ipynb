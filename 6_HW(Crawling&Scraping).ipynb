{
 "cells": [
  {
   "cell_type": "markdown",
   "metadata": {},
   "source": [
    "# 과제: 네이버 영화 정보 및 평점 크롤링"
   ]
  },
  {
   "cell_type": "markdown",
   "metadata": {},
   "source": [
    "- 대상: 예매순 상위 5개의 현재 상영 중인 영화\n",
    "- 수집할 항목: 영화 제목, 주연배우 3인, 네티즌 평점, 관람객 평점, 기자/평론가 평점, 관람객 별점 리뷰 20건 공감순으로(평점, 작성자닉네임, 리뷰본문)"
   ]
  },
  {
   "cell_type": "code",
   "execution_count": 1,
   "metadata": {},
   "outputs": [],
   "source": [
    "import requests\n",
    "from bs4 import BeautifulSoup\n",
    "import re\n",
    "import pandas as pd\n",
    "import json"
   ]
  },
  {
   "cell_type": "markdown",
   "metadata": {},
   "source": [
    "### 1. 예매순 상위 5개의 현재 상영 중인 영화 가져오기"
   ]
  },
  {
   "cell_type": "markdown",
   "metadata": {},
   "source": [
    "영화 제목, 주연배우 3인"
   ]
  },
  {
   "cell_type": "code",
   "execution_count": 2,
   "metadata": {},
   "outputs": [],
   "source": [
    "def movie_title_url_actor():\n",
    "    url = 'https://movie.naver.com/movie/running/current.nhn'\n",
    "    res = requests.get(url)\n",
    "    html = res.text\n",
    "    soup = BeautifulSoup(html, 'html.parser')\n",
    "    \n",
    "    movie = soup.select(\"div.lst_wrap li\")\n",
    "    total_dic = []\n",
    "    for i, m in enumerate(movie):\n",
    "        if i >  4: # 상위 5개 영화만 출력\n",
    "            break\n",
    "        title = m.select_one(\"dt.tit a\") #영화 제목은 df 의 title class의 a tag에 있음\n",
    "        actors = m.select(\"dl.info_txt1 dd:nth-of-type(3) a\") #배우들은 3번째 dd의 a tag에 있음\n",
    "        movie_dic = {}\n",
    "        \n",
    "        movie_tit = str(title.text)\n",
    "        movie_dic['title'] = movie_tit #title key에 영화제목 저장\n",
    "        \n",
    "        total_actors = []\n",
    "        for idx, a in enumerate(actors):\n",
    "            if idx > 2:\n",
    "                break        \n",
    "            #print(a.text)\n",
    "            total_actors.append(a.text) #영화배우 3명을 list에 저장\n",
    "        movie_dic['actors'] = total_actors #actors key에 영화배우list를 저장\n",
    "        \n",
    "        total_dic.append(movie_dic) #title과 actors가 입력 된 dictionary를 list에 저장\n",
    "    return total_dic #list를 반환"
   ]
  },
  {
   "cell_type": "code",
   "execution_count": 3,
   "metadata": {
    "scrolled": true
   },
   "outputs": [
    {
     "data": {
      "text/plain": [
       "[{'title': '지푸라기라도 잡고 싶은 짐승들', 'actors': ['전도연', '정우성', '배성우']},\n",
       " {'title': '인비저블맨', 'actors': ['엘리자베스 모스']},\n",
       " {'title': '1917', 'actors': ['조지 맥케이', '딘-찰스 채프먼']},\n",
       " {'title': '정직한 후보', 'actors': ['라미란', '김무열', '나문희']},\n",
       " {'title': '작은 아씨들', 'actors': ['시얼샤 로넌', '엠마 왓슨', '플로렌스 퓨']}]"
      ]
     },
     "execution_count": 3,
     "metadata": {},
     "output_type": "execute_result"
    }
   ],
   "source": [
    "movie_title_url_actor()"
   ]
  },
  {
   "cell_type": "markdown",
   "metadata": {},
   "source": [
    "### 2. 해당 영화의 평점 가져오기"
   ]
  },
  {
   "cell_type": "markdown",
   "metadata": {},
   "source": [
    "네티즌 평점, 관람객 평점, 기자/평론가 평점"
   ]
  },
  {
   "cell_type": "code",
   "execution_count": 4,
   "metadata": {},
   "outputs": [],
   "source": [
    "def get_grade():\n",
    "    \"\"\"\n",
    "    네티즌 평점, 관람객 평점, 기자/평론가 평점은 제목을 클릭하고 들어가야지 볼 수 있다\n",
    "    제목을 클릭한 후 url을 살펴보면 \n",
    "    url = 'https://movie.naver.com/ + /movie/bi/mi/basic.nhn?code = ?? 형식이다\n",
    "    code가 포함된 url 형식은 dt의 tit class의 a tage에 있다.\n",
    "    \"\"\"\n",
    "    url = 'https://movie.naver.com/movie/running/current.nhn'\n",
    "    res = requests.get(url)\n",
    "    html = res.text\n",
    "    soup = BeautifulSoup(html, 'html.parser')\n",
    "    \n",
    "    total_dic = [] #관람객, 기자/평론가, 네티즌\n",
    "    \n",
    "    movielinks = soup.select('dt.tit  a[href]')\n",
    "    \n",
    "    for idx, movielink in enumerate(movielinks): \n",
    "        if idx > 4 :\n",
    "            break\n",
    "        link = str(movielink.get('href')) \n",
    "\n",
    "        url2 = 'https://movie.naver.com' + link #영화 제목으로 들어가는 새로운 url\n",
    "        movie_dic = {}\n",
    "        res_2 = requests.get(url2)\n",
    "        html_2 = res_2.text\n",
    "        soup_2 = BeautifulSoup(html_2, 'html.parser')\n",
    "        soup_2.select('div[class=star_score]')\n",
    "        \n",
    "        \n",
    "        star = re.compile('[0-9]{2}.[0-9]{1}')# X.XX 형식의 정규표현식을 찾아야징~\n",
    "        \"\"\"\n",
    "        별점 저장이 XX.X으로 되어있다.\n",
    "        select('div[class=star_score]')[i].select(\"span.st_on\")[0].get('style'))[i]로 별점을 받아와 0.1을 곱해주고,\n",
    "        소숫점을 뒤에 2자리 까지만 표시한다.\n",
    "        \n",
    "        별점이 없는 경우에는 None을 입력한다.\n",
    "        \"\"\"\n",
    "        for i in range(3):\n",
    "            if i == 0 : # i = 0 :관람객 평점\n",
    "                try: \n",
    "                    movie_dic['star_v'] = round(float(star.findall(soup_2.select('div[class=star_score]')[i].select(\"span.st_on\")[0].get('style'))[0])*0.1,2)\n",
    "                except : \n",
    "                     movie_dic['star_v'] = \"None\"\n",
    "            elif i == 1 :#i = 1 :기자/평론가 평점\n",
    "                try: \n",
    "                    movie_dic['star_j'] = round(float(star.findall(soup_2.select('div[class=star_score]')[i].select(\"span.st_on\")[0].get('style'))[0])*0.1,2)\n",
    "                except : \n",
    "                     movie_dic['star_j'] = \"None\"\n",
    "            \n",
    "            else : #i = 2 :네티즌 평점\n",
    "                try :\n",
    "                     movie_dic['star_n'] = round(float(star.findall(soup_2.select('div[class=star_score]')[i].select(\"span.st_on\")[0].get('style'))[0])*0.1,2)\n",
    "                except :\n",
    "                     movie_dic['star_n'] = \"None\"\n",
    "        \n",
    "        total_dic.append(movie_dic)\n",
    "           \n",
    "    return total_dic"
   ]
  },
  {
   "cell_type": "code",
   "execution_count": 5,
   "metadata": {
    "scrolled": true
   },
   "outputs": [
    {
     "data": {
      "text/plain": [
       "[{'star_v': 8.33, 'star_j': 6.71, 'star_n': 6.79},\n",
       " {'star_v': 7.75, 'star_j': 8.06, 'star_n': 'None'},\n",
       " {'star_v': 9.3, 'star_j': 7.67, 'star_n': 8.98},\n",
       " {'star_v': 8.6, 'star_j': 5.38, 'star_n': 7.7},\n",
       " {'star_v': 9.18, 'star_j': 8.0, 'star_n': 8.88}]"
      ]
     },
     "execution_count": 5,
     "metadata": {},
     "output_type": "execute_result"
    }
   ],
   "source": [
    "get_grade()"
   ]
  },
  {
   "cell_type": "markdown",
   "metadata": {},
   "source": [
    "### 3. 관람객 평점 공감순 20건 가져오기"
   ]
  },
  {
   "cell_type": "markdown",
   "metadata": {},
   "source": [
    "평점, 평점 작성자 닉네임, 리뷰 본문"
   ]
  },
  {
   "cell_type": "code",
   "execution_count": 12,
   "metadata": {},
   "outputs": [],
   "source": [
    "def get_reviews():\n",
    "    \n",
    "    url = 'https://movie.naver.com/movie/running/current.nhn'\n",
    "    res = requests.get(url)\n",
    "    html = res.text\n",
    "    soup = BeautifulSoup(html, 'html.parser')\n",
    "\n",
    "\n",
    "    movielinks = soup.select('dt.tit  a[href]')\n",
    "    total_dic = []\n",
    "    \n",
    "    for idx, movielink in enumerate(movielinks):\n",
    "        if idx > 4 :\n",
    "            break\n",
    "        movie_dic = {}\n",
    "        comment = []#20개의 댓글을 저장 할 list\n",
    "        star = [] #20개의 별점을 저장 할 list\n",
    "        link = str(movielink.get('href')) \n",
    "        code = ''.join(re.findall(\"\\d\", link))#원래의 url에서 code뒤에 숫자만 필요하다. 숫자만 찾아서 str로 변환\n",
    "        \n",
    "        #첫번째 페이지에서 10개의 별점과 댓글을 crawling\n",
    "        url2 = \"https://movie.naver.com/movie/bi/mi/pointWriteFormList.nhn?code=\" + code\n",
    "        res_2 = requests.get(url2)\n",
    "        html_2 = res_2.text\n",
    "        soup_2 = BeautifulSoup(html_2, 'html.parser')\n",
    "    \n",
    "        \n",
    "        rep = soup_2.find('div', {'class': 'score_result'})\n",
    "        try : \n",
    "            data = rep.find_all('li')\n",
    "            for i in range(len(data)):\n",
    "                star.append(soup_2.select(\"div.star_score em\")[i].text)\n",
    "                #별점은 div의 score result class안에 star score class안에 em tag에 있고, text만 추출한다.\n",
    "                comment.append(data[i].find('div', {'class': 'score_reple'}).find('p').text[26:].strip()) \n",
    "                #댓글은 div의 score_result class안에 score_reple class엔에 p tag에 있다.\n",
    "                # 앞에 불필요한 '관람객','스포일러가 포함된 댓글입니다.댓글보기'를 제외하고 append\n",
    "            \n",
    "        except :\n",
    "            pass\n",
    "            \n",
    "        # 두번째 page에서 나머지 10개의 댓글과 별점 crawling. url2에 \"&page=2\"를 추가하면 2page로 넘어감  \n",
    "        url2_2 = url2 + \"&page=2\"\n",
    "        res_2_2 = requests.get(url2_2)\n",
    "        html_2_2 = res_2_2.text\n",
    "        soup_2_2 = BeautifulSoup(html_2_2, 'html.parser')\n",
    "    \n",
    "        \n",
    "        rep = soup_2_2.find('div', {'class': 'score_result'})\n",
    "        try : \n",
    "            data = rep.find_all('li')\n",
    "            for i in range(len(data)):\n",
    "                star.append(soup_2.select(\"div.star_score em\")[i].text)\n",
    "                #별점은 div의 score result class안에 star score class안에 em tag에 있고, text만 추출한다.\n",
    "                comment.append(data[i].find('div', {'class': 'score_reple'}).find('p').text[26:].strip()) \n",
    "                #댓글은 div의 score_result class안에 score_reple class엔에 p tag에 있다.\n",
    "                # 앞에 불필요한 '관람객','스포일러가 포함된 댓글입니다.댓글보기'를 제외하고 append\n",
    "            \n",
    "        except :\n",
    "            pass\n",
    "        movie_dic['comment_20'] = comment #댓글을 dictionary로 저장\n",
    "        movie_dic['star_20'] = star #별점을 dictionary로 저장\n",
    "        total_dic.append(movie_dic) #dictionary를 lsit에 저장\n",
    "    return total_dic\n",
    "   "
   ]
  },
  {
   "cell_type": "code",
   "execution_count": 13,
   "metadata": {},
   "outputs": [
    {
     "data": {
      "text/plain": [
       "[{'comment_20': ['난 전도연의 화류계 캐릭터가 좋다. 무뢰한, 너는 내 운명, 카운트다운...그리고 지푸라기',\n",
       "   '전도연 연기 진짜 오진다...와 이 영화에서 완전 섹시하게 나온다 역시 명불허전임...',\n",
       "   '8명의 배우가 모두 주인공 같은 느낌.',\n",
       "   '개존잼 역시 전도연이죠? 카리스마 미쳐벌여ㅠㅁㅠ',\n",
       "   '연출, 연기, 스토리 모두 대박...무조건 보세요.',\n",
       "   '연기오지고 스릴오지고',\n",
       "   '스토리가 짱짱하네요~ 심리적인 긴장감을 잘 살린 영화인것 같네요~ 인기좀 끌듯...',\n",
       "   '한국식 피칠갑을 한 타란티노 영화',\n",
       "   '연기 쩐다잉 ,,, 또 보고 싶음 ㅠ',\n",
       "   '진짜 보고싶었던 영환데 드디어 봤습니당 기다린 보람이 있네용ㅋㅋㅋ 등장인물이 많았는데 영화 속에서 잘 풀어낸 것 같아요 강추합니당 !!',\n",
       "   '아니 개봉당일날 9시 땡하고 부터 평점 쏟아지는게 말이 돼냐? 요즘 조조는 꼭두새벽부터 함? 백번양보해서 시사회때 봤다 쳐도 이렇게나 많이 봤다고? 죄다 똑같은 말투에? 음원이고 영화고 조작질 역겹다 진짜',\n",
       "   '전도연을 위한, 전도연에 의한 영화! 데뷔작이라고는 믿을수 없는 연출력에놀랐다~',\n",
       "   '전도연 등장하자마자 걍 스크린 장악함ㅋㅋㅋㅋ역시 전도연이 선택한 작품은 안보고 넘어갈 수 없지',\n",
       "   '이 캐스팅 너무 마음에 든다.영화보고나서도 할말이 많아지는 영화',\n",
       "   '솔직히 이 영화 돈주고 볼만합니다ㅎㅎ',\n",
       "   '믿고보는 칸의 여왕 전도연!! 정우성, 배성우 등등 진짜 미친 명품 조연들...!! 스릴러의 긴장도, 몰입도 괜찮은 영화~',\n",
       "   '진짜 전도연은 대체불가다.',\n",
       "   '다들너무연기를잘하고일단 이런 스토리탄탄한영화 오랜만이네요 굿굿구성도재밋고',\n",
       "   '갖은 재료 다 집어넣었는데 왜 맛이 안나지?',\n",
       "   '영화 보는 내내 제발 한순간만이라도 재미있는 장면 나오길 지푸라기 잡는 심정으로 봤는데 없음'],\n",
       "  'star_20': ['10',\n",
       "   '10',\n",
       "   '10',\n",
       "   '9',\n",
       "   '10',\n",
       "   '9',\n",
       "   '10',\n",
       "   '9',\n",
       "   '10',\n",
       "   '9',\n",
       "   '10',\n",
       "   '10',\n",
       "   '10',\n",
       "   '9',\n",
       "   '10',\n",
       "   '9',\n",
       "   '10',\n",
       "   '9',\n",
       "   '10',\n",
       "   '9']},\n",
       " {'comment_20': ['영화관에 나혼자 있는게 제일 무서웠다',\n",
       "   '외국영화 보면서 연기 잘 한다고 생각한건 처음 ㅋㅋ 와 진짜 여주 연기 몰입감 미쳤음 ㅠㅠ 결말은 진짜 근래 본 것중 젤 오지는듯',\n",
       "   '재밌으면 추천 재미없음 비추천 이것좀 그만 하면 안되나? 그런 사람들 프로필 드가봐요 다 그런 댓글만 있음 영화를 더럽히는 댓글들임',\n",
       "   '와 진짜 ost도 한몫한듯 분위기 무섭게 잡아가는 연출이나 ost가 지려부러따...',\n",
       "   '무섭게 재밌다 추천 아니다 비추천',\n",
       "   '세실리아가 부릅니다, ‘Show Yourself’~!',\n",
       "   '진짜 무섭거나 잔인한 장면 없이 공포감을 불러일으킴.간만에 진짜 재밌게 본 스릴러 영화.',\n",
       "   '와 너무 힘주고봐서 온몸이찌릿찌릿 ㅠㅠ 생각보다 엄청 스릴있고 결말 너무 좋음bb 캬 다른분들말대로 음향효과랑 OST가 지림',\n",
       "   '와 공포 스릴러 덕후인데 두시간 순삭당함 여주 연기 미쳤고요 ㅠ 친구 손 꼭잡고 봐서 얼결에 돈독한 우정됨',\n",
       "   '업그레이드 감독이라 스프라이즈, 음향효과에도 스프라이즈',\n",
       "   '와 소름 진짜 미친 결말!',\n",
       "   '별로 기대안했는데 진짜 재밌었어요 처음부터 끝까지 계속 긴장감있고 흥미진진해요 보면서 계속 이 사람이 말하는게 근데 사실인가 아님 저게 사실인가 의심이 드는 영화이기도 하고요 추천합니다!',\n",
       "   '언니는 왜죽여 나쁜놈아결말이 마음에 들어서 추천영화관에서 봐야함BGM이 사람미치게함',\n",
       "   '영화 끝나는 순간 내 주위에 누군가 있음을 자각하게 된다.',\n",
       "   '미쳤다 그냥..개꿀잼이에요우리나라 흔해빠진 공포영화라는 차원이다름;보고 배우세요 제발',\n",
       "   '서프라이즈 볼만하네요',\n",
       "   '공포영화라기보단 스릴러 영화로 재밌고 무서웠다',\n",
       "   '재밌게 무섭..딱 맛있게 매운 느낌 여주 연기 진짜 미쳤나는 재밌었는데 부모님은 그저 그렇다하심',\n",
       "   '한국이었으면 센서등에 걸릴 놈이 미국이라 운좋았다',\n",
       "   '이 영화는 끝났다고 생각한 순간부터 진짜가 시작된다'],\n",
       "  'star_20': ['8',\n",
       "   '10',\n",
       "   '7',\n",
       "   '10',\n",
       "   '10',\n",
       "   '10',\n",
       "   '8',\n",
       "   '10',\n",
       "   '10',\n",
       "   '8',\n",
       "   '8',\n",
       "   '10',\n",
       "   '7',\n",
       "   '10',\n",
       "   '10',\n",
       "   '10',\n",
       "   '8',\n",
       "   '10',\n",
       "   '10',\n",
       "   '8']},\n",
       " {'comment_20': ['이 영화는 미쳤다. 넷플릭스가 일상화된 시대에 극장이 존재해야하는 이유를 증명해준다.',\n",
       "   '충무로: 이거 어케하는거냐?',\n",
       "   '아카데미에서 촬영상, 음향효과상, 시각효과상을 받은 이유가 고스란히 녹아있는 영화. IMAX로 관람하는걸 추천한다.',\n",
       "   '촬영감독의 영혼까지 갈아넣은 마스터피스',\n",
       "   '오스카 작품상 탔어도 할말 없었을것 같다.',\n",
       "   '공을 카메라가 계속 따라가는데.. 세트장이 엄청 넓은거에 놀랐습니다. 직접 1차대전에 참전하는 느낌.. 이때당시 군인들 20년뒤 히틀러라는 극악의 악마로 자식들 다 전장에 몰리고 더 최악의 고통을 받을껀데 참.....',\n",
       "   '처절한 전쟁 속에서, 한 남자를 영웅으로 만든 것은 훈장도 장군의 명령도 아닌 바로 옆 전우였다.',\n",
       "   '닥터스트레인지의 판단력이 좋았다.',\n",
       "   '솔직히 연출력만으로 최고의 영화다. 마치 우리가 투명인간이 되서 그들을 지켜보는 듯했다. 마지막장면은 영화 내내 쉴시간이 없었던것에 대한 피로감을 풀어줘서 기승전결도 완벽.',\n",
       "   '데미 작품상이야 작품전체를 보는거니 기생충이 받을수도 있다고 보는데 감독상은 1917 줬어도 할말 없음. 감독의 참신성이 빛을 발함. 결론적으로 아카데미 작품상과 감독상을 1917이 받았어도 아무 할말 없는 것이...',\n",
       "   '관객을 1917년 4월 6일로 데려놓는 마법같은 작품',\n",
       "   '노래 쳐 안듣고 뛰어갔으면 80명은 더 살렸겠다',\n",
       "   '진짜 원테이크 장면 너무 긴거 아님?? 촬영하기 진짜 힘들었을 듯...',\n",
       "   '앞으로 유사한 영화가 나올때마다 회자될 작품. 특히 원테이크로 보이게 하는 촬영과 연출은 봐도봐도 놀랍다.',\n",
       "   '솔직히 나는 기생충보다 이영화가 더 재미있었다.',\n",
       "   '막판에 횡으로 수많은 병사가 신호와 함께 우르르 튀어나올때 주인공 혼자 종으로 막 달리는 장면 와 진짜ㅋㅋㅋㅋ대박 무조건 아이맥스로 보세요!',\n",
       "   '오랜만에 영화란 극장에서 보는 것이라는 느낌을 갖게 해 준 명작. 카메라의 움직임, 배우의 감정, 360도로 전쟁이라는 공간, 주인공에게 주어진 미션과 여정. 그 모든 것이 완벽하게 짜여진 영화. 정말 좋은 영화다....',\n",
       "   '원테이크 촬영신은 볼때마다 대단하다 후보에 오를만 했음',\n",
       "   '일단..극장에서 보는걸  추천드립니다.카메라감독 상 줘야 할판  엄청나게  잘 찍음',\n",
       "   '수많은 난관을 거치고 거쳐 도달한 곳은 결국 시작과 똑같은 풀밭 속 나무기둥 옆. 전쟁은 여전히 계속되고 있지만, 햇살이 그를 위로하듯이 드리운다.'],\n",
       "  'star_20': ['10',\n",
       "   '8',\n",
       "   '10',\n",
       "   '10',\n",
       "   '10',\n",
       "   '10',\n",
       "   '10',\n",
       "   '10',\n",
       "   '10',\n",
       "   '10',\n",
       "   '10',\n",
       "   '8',\n",
       "   '10',\n",
       "   '10',\n",
       "   '10',\n",
       "   '10',\n",
       "   '10',\n",
       "   '10',\n",
       "   '10',\n",
       "   '10']},\n",
       " {'comment_20': ['솔직히 그렇게 엄청 웃긴지는 모르겠어요',\n",
       "   '너무 재밌었어용ㅠ 라미란 짱멋…',\n",
       "   '너무 기대를 많이 했나. 생각보다는 별로.... 스토리가 아쉽고, 뒤로 갈수록 억지웃음과 신파때문에... 표현하고자하는건 알겠으나 라미란씨를 주연으로 썼으면서 좀 아쉽습니다.',\n",
       "   '역시 라미란 코미디 연기는 진리다 ㅋㅋㅋㅋ',\n",
       "   '댓글 알바라고 하먄서 평점 ㅈㄴ 낮춰놓는 게 더 댓글 알바같음 ;; 노잼 조폭 알탕 영화들보다 훨~~씬 나음 라미란 배우님 나문희 배우님 김무열 배우님 윤경호 배우님 외 많은 배우님들 ㅇ코믹 연기 넘 조와요 ㅈㄴ...',\n",
       "   '영화의 전체적인 취지와 전개는 이해하지만 너무 엉성한 구조와 표현력이 아쉬웠던 졸작^^;',\n",
       "   '개그 코드가 딱 내 스타일이야ㅋㅋ',\n",
       "   '아니 사람들마다 좋아하는 요소가 다르고 생각하는게 다른데 왜 자기랑 다르면 다 댓글알바라하는거지?; 일반화 오지네',\n",
       "   '기대없이 봐서 그런가 너무 웃음-_-ㅋㅋ',\n",
       "   '진짜 개재밌음 ㅠㅠ 개웃김 미쳤음 ㅋㅋㅋ역대급 코미디임ㅋㅋㅋ 진짜 한 1년동안 재밌는 영화를 못봤는데 ㄹㅇ 개꿀잼 와... 사실 극한직업도 그렇게 웃기진 않다고 생각했는데 진짜 이 영화 스토리도 그렇고 연기도 그...',\n",
       "   '오락영화로 즐기기엔 손색없다',\n",
       "   '대체 어떤부분이 웃낀거야 ??',\n",
       "   '시간이갈수록 실망스러워졌다...',\n",
       "   '음... 내가 생각하는 재미랑 여기 사람들이 재밌다고 말하는 재미랑 다른건가..??',\n",
       "   '부모님은 재밌다고 하시는데 저는 좀 지루했어요.. 피식피식 몇번 웃은듯.. 유머코드 맞는 분들이 보시면 좋겠네요',\n",
       "   '히 말할게요. 보고 왔는데 별로인 영화에요. 많이 오글거리기도 하고 전형적인 어설픈 코미디 한국영화의 클리셰가 다 들어가있네요.  저도 유튜브랑 여기 평점들 읽고 꽤 기대하면서, 그래도 괜찮은 영화겠지 했는데. ...',\n",
       "   '넷플릭스에서 해주면 20분정도보다가 끄고 유튜브보러갈만한영화',\n",
       "   '코미디영화인데 뭔가 코미디영화같기도하고 가족영화 같기도하고 재밌더라 ㅋ',\n",
       "   '진심 재미있냐이게?? 양심좀챙기자',\n",
       "   '예고편이 다 였던 영화..엄마랑 같이 보러갔었는데 엄마는 자고 나는 계속 하품만 나왔다 ㅠㅜㅠㅜ기대 많이 했는데 아쉬운 영화'],\n",
       "  'star_20': ['6',\n",
       "   '10',\n",
       "   '5',\n",
       "   '10',\n",
       "   '10',\n",
       "   '2',\n",
       "   '9',\n",
       "   '10',\n",
       "   '9',\n",
       "   '10',\n",
       "   '6',\n",
       "   '10',\n",
       "   '5',\n",
       "   '10',\n",
       "   '10',\n",
       "   '2',\n",
       "   '9',\n",
       "   '10',\n",
       "   '9',\n",
       "   '10']},\n",
       " {'comment_20': ['재밌다고 느끼면 추천을 아니다 비추천',\n",
       "   '왜 여성은 사랑을 해야하냐며 말하면서도 사랑을 받고 싶다고 외치던 장면이 너무나 울컥했다 ㅜ 조 꽃길만 걷길~',\n",
       "   '철없는 막내로만 재현되어왔던 에이미 캐릭터의 재발견. 어쩌면 자매 중에서 제일 고민이 많고 영리했을 여성으로.',\n",
       "   '“자매를 미워하기엔 인생이 너무 짧아.“ 라는 명대사가 내 마음 속에 강하게 들어왔다.',\n",
       "   '조가 여자의 전부가 사랑이라는 말이 지긋지긋하지만 너무 외롭다는 말이 공감이 간다. 무기력해지는 자신을 보며 슬퍼하는 걸 보니,나를 보는것 같아 더 슬펐다.',\n",
       "   '영화를 보고 나니 조를 응원하는 내 자신을 발견했다. 잔잔한 감동과 재미가 있는 영화.',\n",
       "   \"'우리의 어린시절이 끝이났다니 믿겨지지 않아.'격렬하고도 잔잔한 따뜻했던 가족이야기.\",\n",
       "   '살 때 1995년도판 <작은 아씨들>을 보고 에이미를 네 자매 중 가장 미워했다. 에이미는 욕심많고 허영기 가득한 인물로 보였기 때문이다. 그런데 시간이 흘러 새로 각색한 <작은 아씨들>을 ...',\n",
       "   '내가 영화를 사랑하는 이유',\n",
       "   '엠마왓슨 진짜 존예.. 영화 너무 사랑스럽고 이뻐요..,',\n",
       "   '영화보다가 나도 모르게 계속 눈물이 나더라.조에 입혀진 나를 만나고, 아직 갈팡질팡한 나에게 조는 말해주는 것 같았어요',\n",
       "   '화려한 의상과 경이로운 스토리, 거기에 더해진 훌륭한 연기로 아름다운 영화를 조각했다.',\n",
       "   '그냥 티모씨 나올 때마다 심장 부여잡고 봤다.. 나만 마지막 에이미 빡쳐...?',\n",
       "   '잔잔하지만 깊은 호수같은 영화',\n",
       "   '조를 보는 내내 응원했다. 조의 마지막 선택이 아쉽다.',\n",
       "   '시간의 재배치로 고전을 새롭게 만든 그레타 거윅의 마술. 뛰어난 감독이 손을 대니 고전이 더욱 빛을 내는구나',\n",
       "   '다들 왜이리 연기를 잘하는건가요..',\n",
       "   '시얼샤로넌 연기 미쳤… 진짜 짱짱',\n",
       "   '평 보기\\n\\n\\n\\r\\n\\t\\t\\t\\t\\t\\t\\t\\t\\t\\t\\t\\t\\t\\t\\t\\t\\t\\t어렸을 땐 작은 아씨들의 결말을 이해할 수 없었다.  왜 베스가 죽어야하는지. 왜 조와 로리가 결혼하지 않는건지. 왜 이 평화롭고 즐겁고 활기찬 유년시절이 끝나야만하는지.그러나 이제는 행복하기만 한 순간은 끝날 수 ...',\n",
       "   '조역할을 한 배우님 연가 되게 잘하시더라'],\n",
       "  'star_20': ['10',\n",
       "   '10',\n",
       "   '8',\n",
       "   '10',\n",
       "   '10',\n",
       "   '10',\n",
       "   '9',\n",
       "   '10',\n",
       "   '8',\n",
       "   '10',\n",
       "   '10',\n",
       "   '10',\n",
       "   '8',\n",
       "   '10',\n",
       "   '10',\n",
       "   '10',\n",
       "   '9',\n",
       "   '10',\n",
       "   '8',\n",
       "   '10']}]"
      ]
     },
     "execution_count": 13,
     "metadata": {},
     "output_type": "execute_result"
    }
   ],
   "source": [
    "get_reviews()"
   ]
  },
  {
   "cell_type": "markdown",
   "metadata": {},
   "source": [
    "### 4. 저장하기"
   ]
  },
  {
   "cell_type": "code",
   "execution_count": 14,
   "metadata": {},
   "outputs": [],
   "source": [
    "import json\n",
    "def save(dictionary, filename):#dictionary를 json으로 저장해볼까나~\n",
    "    with open(filename,'w') as fp:\n",
    "        json.dump(dictionary, fp,sort_keys=True, indent=4,ensure_ascii=False)\n",
    "        #한글도 읽을 수 있게 dump!"
   ]
  },
  {
   "cell_type": "code",
   "execution_count": 21,
   "metadata": {},
   "outputs": [
    {
     "data": {
      "text/plain": [
       "\"\\nimport json\\ndef save(dictionary, filename):\\n    for i in range(5):\\n        with open(filename + i,'w') as fp:\\n            json.dump(dictionary[i], fp,sort_keys=True, indent=4,ensure_ascii=False)\\n            #한글도 읽을 수 있게 dump!\\n\""
      ]
     },
     "execution_count": 21,
     "metadata": {},
     "output_type": "execute_result"
    }
   ],
   "source": [
    "#dictionary마다 다른 jsion파일로 저장하려면\n",
    "\"\"\"\n",
    "import json\n",
    "def save(dictionary, filename):\n",
    "    for i in range(5):\n",
    "        with open(filename + i,'w') as fp:\n",
    "            json.dump(dictionary[i], fp,sort_keys=True, indent=4,ensure_ascii=False)\n",
    "            #한글도 읽을 수 있게 dump!\n",
    "\"\"\""
   ]
  },
  {
   "cell_type": "markdown",
   "metadata": {},
   "source": [
    "### 5. 크롤링하기"
   ]
  },
  {
   "cell_type": "code",
   "execution_count": 15,
   "metadata": {},
   "outputs": [],
   "source": [
    "data_t_a = movie_title_url_actor()"
   ]
  },
  {
   "cell_type": "code",
   "execution_count": 16,
   "metadata": {},
   "outputs": [],
   "source": [
    "data_g = get_grade()"
   ]
  },
  {
   "cell_type": "code",
   "execution_count": 17,
   "metadata": {},
   "outputs": [],
   "source": [
    "data_r = get_reviews()"
   ]
  },
  {
   "cell_type": "code",
   "execution_count": 18,
   "metadata": {},
   "outputs": [],
   "source": [
    "for i in range(5):\n",
    "    data_t_a[i].update(data_g[i])\n",
    "    data_t_a[i].update(data_r[i])\n",
    "#3개의 dictionary를 모두 합침\n",
    "data = data_t_a"
   ]
  },
  {
   "cell_type": "code",
   "execution_count": 19,
   "metadata": {},
   "outputs": [],
   "source": [
    "save(data,'SooA_S2.json')"
   ]
  },
  {
   "cell_type": "markdown",
   "metadata": {},
   "source": [
    "총 5개의 dictionary를 json파일로 저장\n",
    "(수아맘속에 저~장 ★ @v<)"
   ]
  }
 ],
 "metadata": {
  "kernelspec": {
   "display_name": "Python 3",
   "language": "python",
   "name": "python3"
  },
  "language_info": {
   "codemirror_mode": {
    "name": "ipython",
    "version": 3
   },
   "file_extension": ".py",
   "mimetype": "text/x-python",
   "name": "python",
   "nbconvert_exporter": "python",
   "pygments_lexer": "ipython3",
   "version": "3.7.4"
  }
 },
 "nbformat": 4,
 "nbformat_minor": 2
}
