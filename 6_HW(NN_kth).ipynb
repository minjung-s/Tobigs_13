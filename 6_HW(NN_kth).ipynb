{
 "cells": [
  {
   "cell_type": "markdown",
   "metadata": {},
   "source": [
    "# 안녕하세요 투빅스 보충 과제입니다 :)\n",
    "\n",
    "안녕하세요 투빅스 12기 김태한입니다 :)\n",
    "\n",
    "이번 과제는 코로나 바이러스로 예상치 못한 휴식시간이 생겨 여러분의 딥러닝 감을 유지하고자 드리게 되었습니다.  \n",
    "\n",
    "투빅이분들이라면 분명 쉽게 해낼거라 믿습니다!!\n",
    "\n",
    "\n",
    "모르시는 거 있으시면 저 그리고 12기 멘토분들을 많이 많이 괴롭혀주세요!!!"
   ]
  },
  {
   "cell_type": "markdown",
   "metadata": {},
   "source": [
    "# Assignment 1"
   ]
  },
  {
   "cell_type": "markdown",
   "metadata": {},
   "source": [
    "여러분들은 저번 과제로 뉴럴넷 구현을 이미 한번 하셨습니다!  \n",
    "\n",
    "사실 이번 과제의 최종 목적도 뉴럴넷 구현인데요 이미 한번 하셨고 실력들이 워낙 출중하셔서 금방금방 하실수 있으실거에요.  \n",
    "\n",
    "구현에 바로 들어가기에 앞서 전체 네트워크 구조와 각 구성요소의 행렬 차원 및 오차역전파(back propagation) 복습이 1번 과제입니다.  \n",
    "\n",
    "**?** 에 들어갈 수식을 채워주시면 됩니다!!  "
   ]
  },
  {
   "cell_type": "markdown",
   "metadata": {},
   "source": [
    "## Matrix Shape 정리\n",
    "\n",
    "n : sample_data 수  \n",
    "d : input_dimension  \n",
    "h : hidden_layer_dimension  \n",
    "c : output_dimension  \n",
    "\n",
    "X : input_data  \n",
    "W1 : layer1_weight  \n",
    "b1 : layer1_bias  \n",
    "H : X*W1+b1\n",
    "A : activation function 거친 value\n",
    "W2 : layer2_weight  \n",
    "b2 : layer2_bias  \n",
    "S : A*W2+b2  \n",
    "P : softmax 거친 value  \n",
    "\n",
    "**X==(n,d)  \n",
    "W1==(d,h) (input feature 수)x(hidden unit의 개수=hidden layer dimension) \\\n",
    "b1==(h,)  (hidden layer dimension) \\\n",
    "H==(n,h) (data sample 수)x(hidden layer dimension)  \\\n",
    "A==(n,h)  activation function \\\n",
    "W2==(h,c) (input feature 수)x(hidden unit의 개수=hidden layer dimension) \\\n",
    "b2==(c,) (class 수) \\\n",
    "S==(n,c) (data sample 수)x(class tn ) \\\n",
    "P==(n,c)**"
   ]
  },
  {
   "cell_type": "markdown",
   "metadata": {},
   "source": [
    "## Matrix 미분 정리\n",
    "$H = XW+b　　　(n,h) = (n,d)x(d,h)+(h,)$  \n",
    "$L = f(H)$  \n",
    "$\\frac{\\partial L}{\\partial W} = \\frac{\\partial H}{\\partial W} \\times \\frac{\\partial L}{\\partial H} = \\frac{\\partial (XW+b)}{\\partial W} \\times\\frac{\\partial L}{\\partial H} = X *\\frac{\\partial L}{\\partial H}$ \n",
    "\n",
    "$\\frac{\\partial L}{\\partial X} = \\frac{\\partial L}{\\partial H} \\times \\frac{\\partial H}{\\partial X} = \\frac{\\partial L}{\\partial H} \\times \\frac{\\partial (XW+b)}{\\partial X} = \\frac{\\partial L}{\\partial H}*W$ 　  \n",
    "$\\frac{\\partial L}{\\partial b} = 1*\\frac{\\partial L}{\\partial H}$  "
   ]
  },
  {
   "cell_type": "markdown",
   "metadata": {},
   "source": [
    "## 2Layers Chain Rule 정리\n",
    "**Forward** \n",
    "\n",
    "$H = XW_{1} + b$  \n",
    "$A = ReLU(H)$  \n",
    "$S = AW_{2} + b_{2}$  \n",
    "$P = Softmax(S)$  \n",
    "$L = -LogLikelihood(P)$\n",
    "\n",
    "\n",
    "**Backward**\n",
    "\n",
    "$\\frac{\\partial L}{\\partial S} = P-T$　:　T는 Label  \n",
    "$\\frac{\\partial L}{\\partial W_{2}} = \\frac{\\partial S}{\\partial W_{2}}\\frac{\\partial L}{\\partial S} = A^{T}(P-T) $ \n",
    "$\\frac{\\partial L}{\\partial b_{2}} = 1*\\frac{\\partial L}{\\partial S} = P-T$  \n",
    "$\\frac{\\partial L}{\\partial A} = \\frac{\\partial L}{\\partial S}\\frac{\\partial S}{\\partial A} = (P-T){W_{2}}^{T} $ \n",
    "$\\frac{\\partial L}{\\partial H} = \\frac{\\partial A}{\\partial H}\\frac{\\partial L}{\\partial A}$ \n",
    "$\\frac{\\partial L}{\\partial W_{1}} = \\frac{\\partial H}{\\partial W_{1}}\\frac{\\partial L}{\\partial H} = X^{T}\\frac{\\partial L}{\\partial H}$  \n",
    "$\\frac{\\partial L}{\\partial b_{1}} = \\frac{\\partial L}{\\partial H}$  "
   ]
  },
  {
   "cell_type": "markdown",
   "metadata": {},
   "source": [
    "# Assignment 2"
   ]
  },
  {
   "cell_type": "markdown",
   "metadata": {},
   "source": [
    "같이 드린 파일중 model.py라는 파일이 있을거에요!!!  \n",
    "그 친구의 빈칸을 채워주시면 되겠습니다~!!  \n",
    "model.py의 함수는 assignment3의 모델 만들기에서 사용되니 참고하시면서 채워주시면 도움이 될거에요!"
   ]
  },
  {
   "cell_type": "markdown",
   "metadata": {},
   "source": [
    "# Assignment 3"
   ]
  },
  {
   "cell_type": "markdown",
   "metadata": {},
   "source": [
    "자 이제 저희가 구현한 모델을 가지고 한번 cifar-10 dataset을 학습해볼게요!!  \n",
    "근데 시작하기에 앞서 pip install keras 를 해주세요!!  \n",
    "\n",
    "3번과제의 목적은 하이퍼파라미터를 튜닝하던 다른방법을 사용하던 해서 마지막에 그림그리기에서 높은 validation accuracy가 나오도록 하는 과제입니다!!  \n",
    "\n",
    "모델을 2층이아니라 본인만의 3층으로 발전시켜도 좋구요 다른 여러가지 방법들이 있겠죠!?!?!?  \n",
    "\n",
    "가장 높은 validation accuracy를 뽑으신 분께 상품을 드리겠습니다아~!!!"
   ]
  },
  {
   "cell_type": "markdown",
   "metadata": {},
   "source": [
    "### 데이터 load\n",
    "\n",
    "keras 프레임워크를 이용하여 데이터를 로드해 옵니다.  \n",
    "32*32*3차원의 데이터를 3072차원으로 바꾸는 것 까지 해드릴게요.\n",
    "필요하면 sklearn.preprocessing의 scaler를 사용해보셔도 좋습니다!"
   ]
  },
  {
   "cell_type": "code",
   "execution_count": 1,
   "metadata": {},
   "outputs": [
    {
     "name": "stderr",
     "output_type": "stream",
     "text": [
      "Using TensorFlow backend.\n"
     ]
    }
   ],
   "source": [
    "from keras.datasets import cifar10\n",
    "import numpy as np\n",
    "from Model import TwoLayerNet\n",
    "from matplotlib import pyplot as plt"
   ]
  },
  {
   "cell_type": "code",
   "execution_count": 2,
   "metadata": {},
   "outputs": [],
   "source": [
    "(x_train, y_train), (x_test, y_test) = cifar10.load_data()"
   ]
  },
  {
   "cell_type": "code",
   "execution_count": 3,
   "metadata": {},
   "outputs": [],
   "source": [
    "def preprocessing_data(x_train, x_test, y_train, y_test):\n",
    "    #change dtype\n",
    "    x_train = np.array(x_train, dtype=np.float64)\n",
    "    x_test = np.array(x_test, dtype=np.float64)\n",
    "    \n",
    "    #reshaping\n",
    "    x_train = np.reshape(x_train, (x_train.shape[0], -1))\n",
    "    x_test = np.reshape(x_test, (x_test.shape[0], -1))\n",
    "    \n",
    "    y_train = np.reshape(y_train, (y_train.shape[0],))\n",
    "    y_test = np.reshape(y_test, (y_test.shape[0],))\n",
    "        \n",
    "    #normalizing\n",
    "    mean_value = np.mean(x_train, axis=0)\n",
    "    x_train -= mean_value\n",
    "    x_test -= mean_value\n",
    "    \n",
    "    return x_train, x_test, y_train, y_test"
   ]
  },
  {
   "cell_type": "code",
   "execution_count": 4,
   "metadata": {},
   "outputs": [],
   "source": [
    "x_train, x_test, y_train, y_test = preprocessing_data(x_train, x_test, y_train, y_test)"
   ]
  },
  {
   "cell_type": "code",
   "execution_count": 5,
   "metadata": {},
   "outputs": [
    {
     "name": "stdout",
     "output_type": "stream",
     "text": [
      "(50000, 3072)\n",
      "(10000, 3072)\n",
      "(50000,)\n",
      "(10000,)\n"
     ]
    }
   ],
   "source": [
    "print(x_train.shape)\n",
    "print(x_test.shape)\n",
    "print(y_train.shape)\n",
    "print(y_test.shape)"
   ]
  },
  {
   "cell_type": "markdown",
   "metadata": {},
   "source": [
    "데이터가 너무 많아서 5000개랑 1000개만 사용해보도록 할게요"
   ]
  },
  {
   "cell_type": "code",
   "execution_count": 6,
   "metadata": {},
   "outputs": [],
   "source": [
    "x_train = x_train[:5000]\n",
    "y_train = y_train[:5000]\n",
    "x_test = x_test[:1000]\n",
    "y_test = y_test[:1000]"
   ]
  },
  {
   "cell_type": "markdown",
   "metadata": {},
   "source": [
    "### 데이터 확인\n",
    "\n",
    "실제 데이터가 어떻게 생겼는지 한번 봅시다"
   ]
  },
  {
   "cell_type": "code",
   "execution_count": 7,
   "metadata": {},
   "outputs": [
    {
     "data": {
      "text/plain": [
       "array([[ -71.71074,  -74.05614,  -69.5538 , ...,   -3.63908,  -33.8503 ,\n",
       "         -42.38186],\n",
       "       [  23.28926,   40.94386,   54.4462 , ...,   16.36092,    7.1497 ,\n",
       "          29.61814],\n",
       "       [ 124.28926,  118.94386,  122.4462 , ...,  -46.63908,  -39.8503 ,\n",
       "         -30.38186],\n",
       "       ...,\n",
       "       [  36.28926,   26.94386,   12.4462 , ...,  -84.63908,  -47.8503 ,\n",
       "         -30.38186],\n",
       "       [  23.28926,   15.94386,   -7.5538 , ...,   67.36092,  121.1497 ,\n",
       "          -0.38186],\n",
       "       [ -85.71074, -104.05614, -111.5538 , ...,   29.36092,   16.1497 ,\n",
       "         -14.38186]])"
      ]
     },
     "execution_count": 7,
     "metadata": {},
     "output_type": "execute_result"
    }
   ],
   "source": [
    "x_train"
   ]
  },
  {
   "cell_type": "markdown",
   "metadata": {},
   "source": [
    "### 하이퍼파라미터 설정\n",
    "\n",
    "이제 하이퍼파라미터를 설정해볼게요.  \n",
    "hidden_size, epoch_size, batch_size, learning_rate등은 전부 하이퍼 파라미터이니 바꾸면서 도전해보세요!!"
   ]
  },
  {
   "cell_type": "markdown",
   "metadata": {},
   "source": [
    "### 1. epoch_size "
   ]
  },
  {
   "cell_type": "code",
   "execution_count": 20,
   "metadata": {},
   "outputs": [],
   "source": [
    "input_size = 32 * 32 * 3\n",
    "hidden_size = 50\n",
    "output_size = 10\n",
    "epoch_size = 1000\n",
    "batch_size = 128 #128이 일반적인 batch size라고 해서 128로 했엉 ㅎㅂㅎ\n",
    "learning_rate = 0.0001\n",
    "N = x_train.shape[0]"
   ]
  },
  {
   "cell_type": "markdown",
   "metadata": {},
   "source": [
    "### 모델 만들기\n",
    "\n",
    "input_size, hidden_size, output_size는 데이터에 맞게 잘 설정해주세요."
   ]
  },
  {
   "cell_type": "code",
   "execution_count": 9,
   "metadata": {},
   "outputs": [],
   "source": [
    "batch_mask = np.random.choice(N, batch_size) #이번 배치에서 쓸 데이터들 인덱스 추출\n",
    "x_batch = x_train[batch_mask]"
   ]
  },
  {
   "cell_type": "code",
   "execution_count": 10,
   "metadata": {},
   "outputs": [],
   "source": [
    "nn = TwoLayerNet(x_batch, input_size=input_size, hidden_size=hidden_size, output_size=output_size)"
   ]
  },
  {
   "cell_type": "code",
   "execution_count": 11,
   "metadata": {
    "scrolled": true
   },
   "outputs": [
    {
     "name": "stdout",
     "output_type": "stream",
     "text": [
      "0 test accuracy : 0.112\n",
      "0 test loss     : 2514.6044079013554\n",
      "10 test accuracy : 0.112\n",
      "10 test loss     : 2509.3431457212564\n",
      "20 test accuracy : 0.112\n",
      "20 test loss     : 2497.783911598861\n",
      "30 test accuracy : 0.125\n",
      "30 test loss     : 2442.26492200461\n",
      "40 test accuracy : 0.171\n",
      "40 test loss     : 2309.112076773514\n",
      "50 test accuracy : 0.174\n",
      "50 test loss     : 2225.56478060556\n",
      "60 test accuracy : 0.203\n",
      "60 test loss     : 2172.2504555956534\n",
      "70 test accuracy : 0.229\n",
      "70 test loss     : 2121.950577004574\n",
      "80 test accuracy : 0.244\n",
      "80 test loss     : 2078.8623927734416\n",
      "90 test accuracy : 0.249\n",
      "90 test loss     : 2045.9926367590406\n",
      "100 test accuracy : 0.255\n",
      "100 test loss     : 2020.1814715291735\n",
      "110 test accuracy : 0.268\n",
      "110 test loss     : 2000.9693356650823\n",
      "120 test accuracy : 0.269\n",
      "120 test loss     : 1985.3615677847413\n",
      "130 test accuracy : 0.276\n",
      "130 test loss     : 1972.8322107786944\n",
      "140 test accuracy : 0.274\n",
      "140 test loss     : 1962.570158405248\n",
      "150 test accuracy : 0.284\n",
      "150 test loss     : 1953.4691338770876\n",
      "160 test accuracy : 0.292\n",
      "160 test loss     : 1944.224990287461\n",
      "170 test accuracy : 0.301\n",
      "170 test loss     : 1935.0095230328002\n",
      "180 test accuracy : 0.304\n",
      "180 test loss     : 1926.7888309692685\n",
      "190 test accuracy : 0.311\n",
      "190 test loss     : 1918.3107347689281\n",
      "200 test accuracy : 0.315\n",
      "200 test loss     : 1909.8686452585068\n",
      "210 test accuracy : 0.314\n",
      "210 test loss     : 1901.4773104324463\n",
      "220 test accuracy : 0.318\n",
      "220 test loss     : 1893.3754257636106\n",
      "230 test accuracy : 0.316\n",
      "230 test loss     : 1885.7080430417327\n",
      "240 test accuracy : 0.328\n",
      "240 test loss     : 1878.3202274957243\n",
      "250 test accuracy : 0.329\n",
      "250 test loss     : 1869.8941478631543\n",
      "260 test accuracy : 0.326\n",
      "260 test loss     : 1861.2934449542793\n",
      "270 test accuracy : 0.331\n",
      "270 test loss     : 1853.0829671136232\n",
      "280 test accuracy : 0.332\n",
      "280 test loss     : 1845.1425333578163\n",
      "290 test accuracy : 0.34\n",
      "290 test loss     : 1836.637037453899\n",
      "300 test accuracy : 0.342\n",
      "300 test loss     : 1827.7352769607141\n",
      "310 test accuracy : 0.343\n",
      "310 test loss     : 1819.1329639971289\n",
      "320 test accuracy : 0.351\n",
      "320 test loss     : 1812.8240460585466\n",
      "330 test accuracy : 0.342\n",
      "330 test loss     : 1807.2088926928116\n",
      "340 test accuracy : 0.355\n",
      "340 test loss     : 1797.956590292539\n",
      "350 test accuracy : 0.357\n",
      "350 test loss     : 1792.7577593564044\n",
      "360 test accuracy : 0.358\n",
      "360 test loss     : 1786.5017069920173\n",
      "370 test accuracy : 0.353\n",
      "370 test loss     : 1780.550026620949\n",
      "380 test accuracy : 0.358\n",
      "380 test loss     : 1776.0893250049235\n",
      "390 test accuracy : 0.36\n",
      "390 test loss     : 1771.2034911489525\n",
      "400 test accuracy : 0.362\n",
      "400 test loss     : 1766.4394915002863\n",
      "410 test accuracy : 0.363\n",
      "410 test loss     : 1762.6585023850114\n",
      "420 test accuracy : 0.362\n",
      "420 test loss     : 1757.4133346289186\n",
      "430 test accuracy : 0.362\n",
      "430 test loss     : 1752.133263197298\n",
      "440 test accuracy : 0.373\n",
      "440 test loss     : 1747.627188954139\n",
      "450 test accuracy : 0.367\n",
      "450 test loss     : 1743.849265989909\n",
      "460 test accuracy : 0.372\n",
      "460 test loss     : 1740.956494982954\n",
      "470 test accuracy : 0.376\n",
      "470 test loss     : 1738.8068183441392\n",
      "480 test accuracy : 0.375\n",
      "480 test loss     : 1737.6755128089785\n",
      "490 test accuracy : 0.37\n",
      "490 test loss     : 1733.7607902295897\n",
      "500 test accuracy : 0.377\n",
      "500 test loss     : 1731.2876586226243\n",
      "510 test accuracy : 0.377\n",
      "510 test loss     : 1728.211338431633\n",
      "520 test accuracy : 0.38\n",
      "520 test loss     : 1726.3188362009791\n",
      "530 test accuracy : 0.38\n",
      "530 test loss     : 1723.5020928192234\n",
      "540 test accuracy : 0.381\n",
      "540 test loss     : 1721.6401807005113\n",
      "550 test accuracy : 0.385\n",
      "550 test loss     : 1719.3984188387608\n",
      "560 test accuracy : 0.388\n",
      "560 test loss     : 1717.6425368062464\n",
      "570 test accuracy : 0.384\n",
      "570 test loss     : 1717.7243898204022\n",
      "580 test accuracy : 0.385\n",
      "580 test loss     : 1714.2019480776482\n",
      "590 test accuracy : 0.388\n",
      "590 test loss     : 1713.4669455320416\n",
      "600 test accuracy : 0.388\n",
      "600 test loss     : 1712.373976338602\n",
      "610 test accuracy : 0.389\n",
      "610 test loss     : 1709.740220910326\n",
      "620 test accuracy : 0.392\n",
      "620 test loss     : 1707.5154909355203\n",
      "630 test accuracy : 0.394\n",
      "630 test loss     : 1705.1993717428816\n",
      "640 test accuracy : 0.401\n",
      "640 test loss     : 1704.047883665813\n",
      "650 test accuracy : 0.398\n",
      "650 test loss     : 1704.036838273152\n",
      "660 test accuracy : 0.398\n",
      "660 test loss     : 1701.1474637337299\n",
      "670 test accuracy : 0.397\n",
      "670 test loss     : 1701.8421028719197\n",
      "680 test accuracy : 0.394\n",
      "680 test loss     : 1699.2260980264427\n",
      "690 test accuracy : 0.396\n",
      "690 test loss     : 1699.0774362188054\n",
      "700 test accuracy : 0.401\n",
      "700 test loss     : 1698.221494862768\n",
      "710 test accuracy : 0.398\n",
      "710 test loss     : 1697.057896303601\n",
      "720 test accuracy : 0.407\n",
      "720 test loss     : 1697.9983811440773\n",
      "730 test accuracy : 0.4\n",
      "730 test loss     : 1695.6311522832748\n",
      "740 test accuracy : 0.4\n",
      "740 test loss     : 1695.5962947811372\n",
      "750 test accuracy : 0.403\n",
      "750 test loss     : 1693.4526109417413\n",
      "760 test accuracy : 0.404\n",
      "760 test loss     : 1694.0059475712803\n",
      "770 test accuracy : 0.407\n",
      "770 test loss     : 1691.236486978762\n",
      "780 test accuracy : 0.401\n",
      "780 test loss     : 1691.3721866018006\n",
      "790 test accuracy : 0.409\n",
      "790 test loss     : 1693.5446587533274\n",
      "800 test accuracy : 0.408\n",
      "800 test loss     : 1693.5192442143755\n",
      "810 test accuracy : 0.405\n",
      "810 test loss     : 1693.90378505695\n",
      "820 test accuracy : 0.408\n",
      "820 test loss     : 1693.5136359623973\n",
      "830 test accuracy : 0.408\n",
      "830 test loss     : 1694.3307764093424\n",
      "840 test accuracy : 0.408\n",
      "840 test loss     : 1694.0132713358041\n",
      "850 test accuracy : 0.404\n",
      "850 test loss     : 1693.6136447979559\n",
      "860 test accuracy : 0.401\n",
      "860 test loss     : 1695.2633308989948\n",
      "870 test accuracy : 0.409\n",
      "870 test loss     : 1694.6608881743061\n",
      "880 test accuracy : 0.403\n",
      "880 test loss     : 1694.3373700399427\n",
      "890 test accuracy : 0.402\n",
      "890 test loss     : 1695.4821689144298\n",
      "900 test accuracy : 0.4\n",
      "900 test loss     : 1695.8140009236665\n",
      "910 test accuracy : 0.404\n",
      "910 test loss     : 1696.52926867735\n",
      "920 test accuracy : 0.404\n",
      "920 test loss     : 1696.6390331212592\n",
      "930 test accuracy : 0.404\n",
      "930 test loss     : 1697.6057740818133\n",
      "940 test accuracy : 0.405\n",
      "940 test loss     : 1700.1272652792215\n",
      "950 test accuracy : 0.405\n",
      "950 test loss     : 1699.8329201715408\n",
      "960 test accuracy : 0.405\n",
      "960 test loss     : 1700.8760125565627\n",
      "970 test accuracy : 0.407\n",
      "970 test loss     : 1700.3304940042497\n",
      "980 test accuracy : 0.407\n",
      "980 test loss     : 1704.9626624064445\n",
      "990 test accuracy : 0.405\n",
      "990 test loss     : 1702.5246092272648\n"
     ]
    }
   ],
   "source": [
    "history = {'val_acc': [],'val_loss': []} #기록해서 그림 그리자!\n",
    "\n",
    "#코드를 보며 epoch, batch에 대해서 이해해봅시다.\n",
    "for i in range(epoch_size):\n",
    "    for j in range(N//batch_size):\n",
    "        batch_mask = np.random.choice(N, batch_size) #이번 배치에서 쓸 데이터들 인덱스 추출\n",
    "        x_batch = x_train[batch_mask]\n",
    "        t_batch = y_train[batch_mask]\n",
    "        \n",
    "        nn.backward(x_batch, t_batch, 1e-7) # 가중치 갱신\n",
    "    \n",
    "    #accuracy와 loss를 기록해둡시다.\n",
    "    history[\"val_acc\"].append(nn.accuracy(x_test, y_test))\n",
    "    history[\"val_loss\"].append(nn.forward(x_test, y_test))\n",
    "    \n",
    "    if i % 10 == 0:\n",
    "        print(i, \"test accuracy :\", nn.accuracy(x_test, y_test))\n",
    "        print(i, \"test loss     :\", nn.forward(x_test, y_test))"
   ]
  },
  {
   "cell_type": "markdown",
   "metadata": {},
   "source": [
    "### 그림 그리기"
   ]
  },
  {
   "cell_type": "code",
   "execution_count": 12,
   "metadata": {},
   "outputs": [
    {
     "data": {
      "image/png": "[encoded data removed]",
      "text/plain": [
       "<Figure size 432x288 with 2 Axes>"
      ]
     },
     "metadata": {
      "needs_background": "light"
     },
     "output_type": "display_data"
    },
    {
     "name": "stdout",
     "output_type": "stream",
     "text": [
      "나의 최고 validation loss :  0.41\n"
     ]
    }
   ],
   "source": [
    "fig = plt.figure()\n",
    "ax_acc = fig.add_subplot(111)\n",
    "\n",
    "ax_acc.plot(range(epoch_size), history['val_acc'], label='정확도(%)', color='darkred')\n",
    "#plt.text(3, 14.7, \"<----------------정확도(%)\", verticalalignment='top', horizontalalignment='right')\n",
    "plt.xlabel('epochs')\n",
    "plt.ylabel('Validation Accuracy(%)')\n",
    "ax_acc.grid(linestyle='--', color='lavender')\n",
    "ax_loss = ax_acc.twinx()\n",
    "ax_loss.plot(range(epoch_size), history['val_loss'], label='오차', color='darkblue')\n",
    "#plt.text(3, 2.2, \"<----------------오차\", verticalalignment='top', horizontalalignment='left')\n",
    "plt.ylabel('Validation Error')\n",
    "ax_loss.yaxis.tick_right()\n",
    "ax_loss.grid(linestyle='--', color='lavender')\n",
    "\n",
    "# 그래프 표시\n",
    "plt.show()\n",
    "\n",
    "# 나의 최고 validation accuracy는? 두구두구~\n",
    "print(\"나의 최고 validation loss : \",max(history['val_acc']))"
   ]
  },
  {
   "cell_type": "markdown",
   "metadata": {},
   "source": [
    "epoch_size = 100*2 = 200"
   ]
  },
  {
   "cell_type": "code",
   "execution_count": null,
   "metadata": {},
   "outputs": [],
   "source": []
  }
 ],
 "metadata": {
  "kernelspec": {
   "display_name": "Python 3",
   "language": "python",
   "name": "python3"
  },
  "language_info": {
   "codemirror_mode": {
    "name": "ipython",
    "version": 3
   },
   "file_extension": ".py",
   "mimetype": "text/x-python",
   "name": "python",
   "nbconvert_exporter": "python",
   "pygments_lexer": "ipython3",
   "version": "3.7.4"
  }
 },
 "nbformat": 4,
 "nbformat_minor": 2
}
