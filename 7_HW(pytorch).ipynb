{
  "nbformat": 4,
  "nbformat_minor": 0,
  "metadata": {
    "colab": {
      "name": "7_HW(pytorch).ipynb",
      "provenance": [],
      "collapsed_sections": [],
      "toc_visible": true
    },
    "kernelspec": {
      "name": "python3",
      "display_name": "Python 3"
    },
    "accelerator": "GPU"
  },
  "cells": [
    {
      "cell_type": "code",
      "metadata": {
        "id": "cat4Ybhpmbkd",
        "colab_type": "code",
        "colab": {}
      },
      "source": [
        ""
      ],
      "execution_count": 0,
      "outputs": []
    },
    {
      "cell_type": "markdown",
      "metadata": {
        "id": "Rmh_elTMQuet",
        "colab_type": "text"
      },
      "source": [
        "keras과제에서 구현한 model_5 를 \n",
        "\n",
        "\n",
        "pytorch로 구현\n",
        "\n",
        "(Adam사용, keras callback함수로 사용했던것을 제외)"
      ]
    },
    {
      "cell_type": "code",
      "metadata": {
        "id": "J-rKDgT2mhWP",
        "colab_type": "code",
        "outputId": "8f6a027e-dd3d-4c75-fc93-7d9a422878f3",
        "colab": {
          "base_uri": "https://localhost:8080/",
          "height": 125
        }
      },
      "source": [
        "from google.colab import drive\n",
        "drive.mount('/content/drive')"
      ],
      "execution_count": 0,
      "outputs": [
        {
          "output_type": "stream",
          "text": [
            "Go to this URL in a browser: https://accounts.google.com/o/oauth2/auth?client_id=947318989803-6bn6qk8qdgf4n4g3pfee6491hc0brc4i.apps.googleusercontent.com&redirect_uri=urn%3aietf%3awg%3aoauth%3a2.0%3aoob&response_type=code&scope=email%20https%3a%2f%2fwww.googleapis.com%2fauth%2fdocs.test%20https%3a%2f%2fwww.googleapis.com%2fauth%2fdrive%20https%3a%2f%2fwww.googleapis.com%2fauth%2fdrive.photos.readonly%20https%3a%2f%2fwww.googleapis.com%2fauth%2fpeopleapi.readonly\n",
            "\n",
            "Enter your authorization code:\n",
            "··········\n",
            "Mounted at /content/drive\n"
          ],
          "name": "stdout"
        }
      ]
    },
    {
      "cell_type": "code",
      "metadata": {
        "id": "8tJl4le2nNQr",
        "colab_type": "code",
        "outputId": "63707832-d277-4762-f57f-895c072e4d17",
        "colab": {
          "base_uri": "https://localhost:8080/",
          "height": 34
        }
      },
      "source": [
        "ls\n"
      ],
      "execution_count": 0,
      "outputs": [
        {
          "output_type": "stream",
          "text": [
            "\u001b[0m\u001b[01;34mdrive\u001b[0m/  \u001b[01;34msample_data\u001b[0m/\n"
          ],
          "name": "stdout"
        }
      ]
    },
    {
      "cell_type": "code",
      "metadata": {
        "id": "4dFr47dmnOL8",
        "colab_type": "code",
        "outputId": "a39e681d-4c20-412d-a306-f56908451ae2",
        "colab": {
          "base_uri": "https://localhost:8080/",
          "height": 35
        }
      },
      "source": [
        "cd /content/drive/My Drive/tobigs_7HW"
      ],
      "execution_count": 18,
      "outputs": [
        {
          "output_type": "stream",
          "text": [
            "/content/drive/My Drive/tobigs_7HW\n"
          ],
          "name": "stdout"
        }
      ]
    },
    {
      "cell_type": "code",
      "metadata": {
        "id": "Pgga5mibqFz8",
        "colab_type": "code",
        "outputId": "bde01e9c-c976-4b30-d4a1-004a9bb51ab3",
        "colab": {
          "base_uri": "https://localhost:8080/",
          "height": 270
        }
      },
      "source": [
        "ls"
      ],
      "execution_count": 19,
      "outputs": [
        {
          "output_type": "stream",
          "text": [
            "'7_HW(keras_CNN).ipynb'                         submission_2D_47_re.csv\n",
            "'7_HW(keras).ipynb'                             submission_2D_60.csv\n",
            "'7_HW(pytorch).ipynb'                           submission_2D.csv\n",
            " checkpoint-epoch-150-batch-1024-trial-001.h5   submission_2D_model3.csv\n",
            "'kaggle (1).json'                               submission_2D_model4.csv\n",
            "'kaggle (2).json'                               submission_2D_model5.csv\n",
            "'kaggle (3).json'                               submission_2D_model6.csv\n",
            "'kaggle (4).json'                               submission_2D_model7.csv\n",
            "'kaggle (5).json'                               submission.csv\n",
            " kaggle.json                                    submission_l9_adam.csv\n",
            " model_5.png                                    test_df.csv\n",
            " RAdam.py                                       test_df.csv.zip\n",
            " sample_submission.csv                          train_df.csv\n",
            " submission_2D_47.csv                           train_df.csv.zip\n"
          ],
          "name": "stdout"
        }
      ]
    },
    {
      "cell_type": "code",
      "metadata": {
        "id": "q615gxoPq5YJ",
        "colab_type": "code",
        "colab": {}
      },
      "source": [
        "import numpy as np # linear algebra\n",
        "import pandas as pd # data processing, CSV file I/O (e.g. pd.read_csv)\n",
        "\n",
        "import itertools\n",
        "from IPython.display import Image\n",
        "from IPython import display\n",
        "import matplotlib.pyplot as plt\n",
        "\n",
        "import torch \n",
        "import torch.nn as nn\n",
        "import torch.nn.functional as F\n",
        "import torch.optim as optim\n",
        "from torchvision import datasets, transforms\n",
        "\n",
        "%matplotlib inline"
      ],
      "execution_count": 0,
      "outputs": []
    },
    {
      "cell_type": "code",
      "metadata": {
        "id": "9u-H9vWaq-Rd",
        "colab_type": "code",
        "colab": {}
      },
      "source": [
        "sample_submission = pd.read_csv(\"sample_submission.csv\")"
      ],
      "execution_count": 0,
      "outputs": []
    },
    {
      "cell_type": "code",
      "metadata": {
        "id": "SDTMJVtvrA5D",
        "colab_type": "code",
        "outputId": "ed5c1825-6a01-499f-fb72-9fc2bc8cfd70",
        "colab": {
          "base_uri": "https://localhost:8080/",
          "height": 53
        }
      },
      "source": [
        "test = pd.read_csv(\"test_df.csv\")\n",
        "train = pd.read_csv(\"train_df.csv\")\n",
        "\n",
        "print(f\"Train data shape {train.shape}\")\n",
        "print(f\"Test data shape {test.shape}\")\n"
      ],
      "execution_count": 69,
      "outputs": [
        {
          "output_type": "stream",
          "text": [
            "Train data shape (42000, 785)\n",
            "Test data shape (18000, 785)\n"
          ],
          "name": "stdout"
        }
      ]
    },
    {
      "cell_type": "code",
      "metadata": {
        "id": "nTHURkslrDSF",
        "colab_type": "code",
        "colab": {}
      },
      "source": [
        "X = train.iloc[:, 1:].values / 255\n",
        "y = train.iloc[:, 0].values\n",
        "test = test.iloc[:, 1:].values / 255"
      ],
      "execution_count": 0,
      "outputs": []
    },
    {
      "cell_type": "code",
      "metadata": {
        "id": "x1k_x2aNQXmk",
        "colab_type": "code",
        "colab": {}
      },
      "source": [
        "from torch.utils.data import Dataset, DataLoader\n",
        "import torch\n",
        "class TrainDataset(Dataset):\n",
        "    def __init__(self, X, y, transform=None):\n",
        "        self.X = X\n",
        "        self.y = y\n",
        "        self.transform = transform\n",
        "    def __len__(self):\n",
        "        return len(self.X)\n",
        "    def __getitem__(self, idx):\n",
        "        X, y = self.X[idx], self.y[idx]\n",
        "        x2d = X.reshape(28, 28)\n",
        "        #x2d_aug = aug(x2d)\n",
        "        x2d = X.reshape(784)\n",
        "        return torch.tensor(X).float(), torch.tensor(y)\n",
        "\n",
        "class TestDataset(Dataset):\n",
        "    def __init__(self, X, y=None, transform=None):\n",
        "        self.X = X\n",
        "        self.y = y\n",
        "        self.transform = transform\n",
        "    def __len__(self):\n",
        "        return len(self.X)\n",
        "    def __getitem__(self, idx):\n",
        "        X = self.X[idx]\n",
        "        return torch.tensor(X).float()"
      ],
      "execution_count": 0,
      "outputs": []
    },
    {
      "cell_type": "code",
      "metadata": {
        "id": "kDz_J6fzQZGr",
        "colab_type": "code",
        "colab": {}
      },
      "source": [
        "traindataset = TrainDataset(X, y)\n",
        "testdataset = TestDataset(test)"
      ],
      "execution_count": 0,
      "outputs": []
    },
    {
      "cell_type": "code",
      "metadata": {
        "id": "n5H9DsUJQa58",
        "colab_type": "code",
        "colab": {}
      },
      "source": [
        "#batch iterator\n",
        "trainloader = DataLoader(traindataset, batch_size=1024, shuffle=True, num_workers=2)\n",
        "testloader = DataLoader(testdataset, batch_size=1024, shuffle=False, num_workers=2)"
      ],
      "execution_count": 0,
      "outputs": []
    },
    {
      "cell_type": "code",
      "metadata": {
        "id": "Zo-iYftGQdx-",
        "colab_type": "code",
        "colab": {}
      },
      "source": [
        "import torch.nn as nn\n",
        "import torch.nn.functional as F\n",
        "\n",
        "def swish(x):\n",
        "  return x * F.sigmoid(x)\n",
        "\n",
        "\n",
        "class Net(nn.Module):\n",
        "    def __init__(self,dropout = 0.2):\n",
        "        super(Net, self).__init__()\n",
        "        self.dropout = dropout #drop out 쓸꼬양\n",
        "        \n",
        "\n",
        "        self.bn1 = nn.BatchNorm1d(num_features=128)\n",
        "        self.bn2 = nn.BatchNorm1d(num_features=256)\n",
        "        self.bn3 = nn.BatchNorm1d(num_features=128)\n",
        "\n",
        "        self.d1_1 = nn.Dropout(p=self.dropout)\n",
        "        self.d1_2 = nn.Dropout(p=self.dropout)\n",
        "        self.d1_3 = nn.Dropout(p=self.dropout)\n",
        "\n",
        "        self.fc1 = nn.Linear(28*28, 128)\n",
        "        self.fc2 = nn.Linear(128, 256)\n",
        "        self.fc3 = nn.Linear(256, 128)\n",
        "        self.fc4 = nn.Linear(128, 64)\n",
        "        self.fc5 = nn.Linear(64, 10)\n",
        "\n",
        "\n",
        "        \n",
        "    def forward(self, x):\n",
        "        x = self.fc1(x)\n",
        "        x = self.bn1(x)\n",
        "        x = swish(x)\n",
        "        x = self.d1_1(x)\n",
        "\n",
        "        x = self.fc2(x)\n",
        "        x = self.bn2(x)\n",
        "        x = swish(x)\n",
        "        x = self.d1_2(x)\n",
        "\n",
        "        x = self.fc3(x)\n",
        "        x = self.bn3(x)\n",
        "        x = swish(x)\n",
        "        x = self.d1_3(x)\n",
        "\n",
        "        x = self.fc4(x)\n",
        "        x = swish(x)\n",
        "\n",
        "        x = self.fc5(x)\n",
        "\n",
        "\n",
        "        return F.log_softmax(x, dim=-1)\n",
        "\n",
        "net = Net()"
      ],
      "execution_count": 0,
      "outputs": []
    },
    {
      "cell_type": "code",
      "metadata": {
        "id": "Dk7UkPRDQfTR",
        "colab_type": "code",
        "colab": {}
      },
      "source": [
        "import torch.optim as optim\n",
        "\n",
        "criterion = nn.CrossEntropyLoss()\n",
        "optimizer = optim.Adam(net.parameters(), lr=0.00001)"
      ],
      "execution_count": 0,
      "outputs": []
    },
    {
      "cell_type": "code",
      "metadata": {
        "id": "_DT4rI5uQhYT",
        "colab_type": "code",
        "colab": {
          "base_uri": "https://localhost:8080/",
          "height": 35
        },
        "outputId": "edb9b27f-6068-4705-eaa6-9f62e218f71c"
      },
      "source": [
        "if torch.cuda.is_available():\n",
        "    device = torch.device(\"cuda\") \n",
        "print(device)   "
      ],
      "execution_count": 76,
      "outputs": [
        {
          "output_type": "stream",
          "text": [
            "cuda\n"
          ],
          "name": "stdout"
        }
      ]
    },
    {
      "cell_type": "code",
      "metadata": {
        "id": "_C5kAxsxQj-E",
        "colab_type": "code",
        "colab": {}
      },
      "source": [
        "net = net.to(device)"
      ],
      "execution_count": 0,
      "outputs": []
    },
    {
      "cell_type": "code",
      "metadata": {
        "id": "pHhi_9lxQmlG",
        "colab_type": "code",
        "colab": {
          "base_uri": "https://localhost:8080/",
          "height": 998
        },
        "outputId": "6701b02b-8491-49e6-9608-ffc143b4474c"
      },
      "source": [
        "num_epochs = 50\n",
        "for epoch in range(num_epochs):  # loop over the dataset multiple times\n",
        "\n",
        "    running_loss = 0.0\n",
        "    for i, data in enumerate(trainloader):\n",
        "        # get the inputs; data is a list of [inputs, labels]\n",
        "        \n",
        "        inputs, labels = data\n",
        "        inputs, labels = inputs.to(device), labels.to(device)\n",
        "        # zero the parameter gradients\n",
        "        optimizer.zero_grad()\n",
        "\n",
        "        # forward + backward + optimize\n",
        "        outputs = net(inputs)\n",
        "        loss = criterion(outputs, labels)\n",
        "        loss.backward()\n",
        "        optimizer.step()\n",
        "\n",
        "        # print statistics\n",
        "        running_loss += loss.item()\n",
        "    print('[%d, %5d] loss: %.3f' %(epoch + 1, i + 1, running_loss / 20))\n",
        "    running_loss = 0.0\n",
        "\n",
        "print('Finished Training')"
      ],
      "execution_count": 79,
      "outputs": [
        {
          "output_type": "stream",
          "text": [
            "/usr/local/lib/python3.6/dist-packages/torch/nn/functional.py:1351: UserWarning: nn.functional.sigmoid is deprecated. Use torch.sigmoid instead.\n",
            "  warnings.warn(\"nn.functional.sigmoid is deprecated. Use torch.sigmoid instead.\")\n"
          ],
          "name": "stderr"
        },
        {
          "output_type": "stream",
          "text": [
            "[1,    42] loss: 4.702\n",
            "[2,    42] loss: 4.598\n",
            "[3,    42] loss: 4.496\n",
            "[4,    42] loss: 4.393\n",
            "[5,    42] loss: 4.278\n",
            "[6,    42] loss: 4.167\n",
            "[7,    42] loss: 4.055\n",
            "[8,    42] loss: 3.948\n",
            "[9,    42] loss: 3.834\n",
            "[10,    42] loss: 3.733\n",
            "[11,    42] loss: 3.623\n",
            "[12,    42] loss: 3.520\n",
            "[13,    42] loss: 3.422\n",
            "[14,    42] loss: 3.325\n",
            "[15,    42] loss: 3.222\n",
            "[16,    42] loss: 3.135\n",
            "[17,    42] loss: 3.041\n",
            "[18,    42] loss: 2.956\n",
            "[19,    42] loss: 2.871\n",
            "[20,    42] loss: 2.781\n",
            "[21,    42] loss: 2.704\n",
            "[22,    42] loss: 2.632\n",
            "[23,    42] loss: 2.550\n",
            "[24,    42] loss: 2.473\n",
            "[25,    42] loss: 2.410\n",
            "[26,    42] loss: 2.347\n",
            "[27,    42] loss: 2.284\n",
            "[28,    42] loss: 2.207\n",
            "[29,    42] loss: 2.144\n",
            "[30,    42] loss: 2.069\n",
            "[31,    42] loss: 2.026\n",
            "[32,    42] loss: 1.959\n",
            "[33,    42] loss: 1.908\n",
            "[34,    42] loss: 1.840\n",
            "[35,    42] loss: 1.793\n",
            "[36,    42] loss: 1.744\n",
            "[37,    42] loss: 1.692\n",
            "[38,    42] loss: 1.651\n",
            "[39,    42] loss: 1.615\n",
            "[40,    42] loss: 1.551\n",
            "[41,    42] loss: 1.509\n",
            "[42,    42] loss: 1.471\n",
            "[43,    42] loss: 1.433\n",
            "[44,    42] loss: 1.388\n",
            "[45,    42] loss: 1.358\n",
            "[46,    42] loss: 1.323\n",
            "[47,    42] loss: 1.277\n",
            "[48,    42] loss: 1.247\n",
            "[49,    42] loss: 1.216\n",
            "[50,    42] loss: 1.195\n",
            "Finished Training\n"
          ],
          "name": "stdout"
        }
      ]
    },
    {
      "cell_type": "code",
      "metadata": {
        "id": "m_BxCh-IQqAL",
        "colab_type": "code",
        "colab": {
          "base_uri": "https://localhost:8080/",
          "height": 91
        },
        "outputId": "234b8db2-73a2-40b1-83ba-95727ea0870c"
      },
      "source": [
        "correct = 0\n",
        "total = 0\n",
        "preds = []\n",
        "with torch.no_grad():\n",
        "    for data in testloader:\n",
        "        images = data\n",
        "        images = images.to(device)\n",
        "        outputs = net(images)\n",
        "        _, predicted = torch.max(outputs.data, 1)\n",
        "        for pred in predicted:\n",
        "          preds.append(pred.cpu().numpy())\n",
        "print(preds[:10])"
      ],
      "execution_count": 82,
      "outputs": [
        {
          "output_type": "stream",
          "text": [
            "/usr/local/lib/python3.6/dist-packages/torch/nn/functional.py:1351: UserWarning: nn.functional.sigmoid is deprecated. Use torch.sigmoid instead.\n",
            "  warnings.warn(\"nn.functional.sigmoid is deprecated. Use torch.sigmoid instead.\")\n"
          ],
          "name": "stderr"
        },
        {
          "output_type": "stream",
          "text": [
            "[array(8), array(0), array(5), array(3), array(8), array(1), array(9), array(6), array(6), array(0)]\n"
          ],
          "name": "stdout"
        }
      ]
    },
    {
      "cell_type": "code",
      "metadata": {
        "id": "MwD-Y6zxWbvq",
        "colab_type": "code",
        "colab": {}
      },
      "source": [
        ""
      ],
      "execution_count": 0,
      "outputs": []
    }
  ]
}