{
 "cells": [
  {
   "cell_type": "markdown",
   "metadata": {},
   "source": [
    "# Data 불러오기 & import"
   ]
  },
  {
   "cell_type": "code",
   "execution_count": 1,
   "metadata": {},
   "outputs": [],
   "source": [
    "import numpy as np\n",
    "import pandas as pd\n",
    "from sklearn.preprocessing import StandardScaler\n",
    "from sklearn.linear_model import LogisticRegression\n",
    "from sklearn.model_selection import train_test_split"
   ]
  },
  {
   "cell_type": "code",
   "execution_count": 2,
   "metadata": {},
   "outputs": [],
   "source": [
    "df = pd.read_csv('sampled_data.csv',encoding ='cp949')"
   ]
  },
  {
   "cell_type": "code",
   "execution_count": 3,
   "metadata": {},
   "outputs": [
    {
     "data": {
      "text/html": [
       "<div>\n",
       "<style scoped>\n",
       "    .dataframe tbody tr th:only-of-type {\n",
       "        vertical-align: middle;\n",
       "    }\n",
       "\n",
       "    .dataframe tbody tr th {\n",
       "        vertical-align: top;\n",
       "    }\n",
       "\n",
       "    .dataframe thead th {\n",
       "        text-align: right;\n",
       "    }\n",
       "</style>\n",
       "<table border=\"1\" class=\"dataframe\">\n",
       "  <thead>\n",
       "    <tr style=\"text-align: right;\">\n",
       "      <th></th>\n",
       "      <th>Time</th>\n",
       "      <th>V1</th>\n",
       "      <th>V2</th>\n",
       "      <th>V3</th>\n",
       "      <th>V4</th>\n",
       "      <th>V5</th>\n",
       "      <th>V6</th>\n",
       "      <th>V7</th>\n",
       "      <th>V8</th>\n",
       "      <th>V9</th>\n",
       "      <th>...</th>\n",
       "      <th>V21</th>\n",
       "      <th>V22</th>\n",
       "      <th>V23</th>\n",
       "      <th>V24</th>\n",
       "      <th>V25</th>\n",
       "      <th>V26</th>\n",
       "      <th>V27</th>\n",
       "      <th>V28</th>\n",
       "      <th>Amount</th>\n",
       "      <th>Class</th>\n",
       "    </tr>\n",
       "  </thead>\n",
       "  <tbody>\n",
       "    <tr>\n",
       "      <td>0</td>\n",
       "      <td>136330</td>\n",
       "      <td>2.108286</td>\n",
       "      <td>-0.020359</td>\n",
       "      <td>-2.234273</td>\n",
       "      <td>-0.124080</td>\n",
       "      <td>0.559843</td>\n",
       "      <td>-1.315913</td>\n",
       "      <td>0.631887</td>\n",
       "      <td>-0.385490</td>\n",
       "      <td>0.150628</td>\n",
       "      <td>...</td>\n",
       "      <td>0.162940</td>\n",
       "      <td>0.519705</td>\n",
       "      <td>-0.091751</td>\n",
       "      <td>-0.379542</td>\n",
       "      <td>0.418822</td>\n",
       "      <td>0.248646</td>\n",
       "      <td>-0.098857</td>\n",
       "      <td>-0.094773</td>\n",
       "      <td>7.70</td>\n",
       "      <td>0</td>\n",
       "    </tr>\n",
       "    <tr>\n",
       "      <td>1</td>\n",
       "      <td>116819</td>\n",
       "      <td>2.080143</td>\n",
       "      <td>-0.075408</td>\n",
       "      <td>-1.359381</td>\n",
       "      <td>0.261263</td>\n",
       "      <td>0.232201</td>\n",
       "      <td>-0.797886</td>\n",
       "      <td>0.233487</td>\n",
       "      <td>-0.330165</td>\n",
       "      <td>0.493154</td>\n",
       "      <td>...</td>\n",
       "      <td>-0.317765</td>\n",
       "      <td>-0.784150</td>\n",
       "      <td>0.233078</td>\n",
       "      <td>-0.636937</td>\n",
       "      <td>-0.191137</td>\n",
       "      <td>0.234986</td>\n",
       "      <td>-0.070648</td>\n",
       "      <td>-0.062794</td>\n",
       "      <td>17.99</td>\n",
       "      <td>0</td>\n",
       "    </tr>\n",
       "    <tr>\n",
       "      <td>2</td>\n",
       "      <td>27917</td>\n",
       "      <td>1.152650</td>\n",
       "      <td>0.204938</td>\n",
       "      <td>0.441832</td>\n",
       "      <td>1.211595</td>\n",
       "      <td>-0.254895</td>\n",
       "      <td>-0.383380</td>\n",
       "      <td>-0.004286</td>\n",
       "      <td>-0.019590</td>\n",
       "      <td>0.085094</td>\n",
       "      <td>...</td>\n",
       "      <td>0.066674</td>\n",
       "      <td>0.209828</td>\n",
       "      <td>-0.054351</td>\n",
       "      <td>0.058103</td>\n",
       "      <td>0.515330</td>\n",
       "      <td>-0.299402</td>\n",
       "      <td>0.032551</td>\n",
       "      <td>0.022865</td>\n",
       "      <td>21.00</td>\n",
       "      <td>0</td>\n",
       "    </tr>\n",
       "    <tr>\n",
       "      <td>3</td>\n",
       "      <td>97443</td>\n",
       "      <td>-0.389692</td>\n",
       "      <td>0.410148</td>\n",
       "      <td>0.616187</td>\n",
       "      <td>-0.686644</td>\n",
       "      <td>1.040312</td>\n",
       "      <td>-0.322199</td>\n",
       "      <td>0.523625</td>\n",
       "      <td>-0.037453</td>\n",
       "      <td>1.319237</td>\n",
       "      <td>...</td>\n",
       "      <td>0.116692</td>\n",
       "      <td>0.685267</td>\n",
       "      <td>-0.182303</td>\n",
       "      <td>0.767857</td>\n",
       "      <td>-0.242738</td>\n",
       "      <td>0.009678</td>\n",
       "      <td>0.115370</td>\n",
       "      <td>0.176041</td>\n",
       "      <td>6.60</td>\n",
       "      <td>0</td>\n",
       "    </tr>\n",
       "    <tr>\n",
       "      <td>4</td>\n",
       "      <td>17920</td>\n",
       "      <td>-1.306986</td>\n",
       "      <td>0.183306</td>\n",
       "      <td>3.164803</td>\n",
       "      <td>0.810135</td>\n",
       "      <td>1.529576</td>\n",
       "      <td>2.388322</td>\n",
       "      <td>0.551279</td>\n",
       "      <td>-0.054401</td>\n",
       "      <td>1.675481</td>\n",
       "      <td>...</td>\n",
       "      <td>-0.203993</td>\n",
       "      <td>0.556523</td>\n",
       "      <td>0.146513</td>\n",
       "      <td>-1.128693</td>\n",
       "      <td>-0.633623</td>\n",
       "      <td>-0.454903</td>\n",
       "      <td>-0.826329</td>\n",
       "      <td>-0.826186</td>\n",
       "      <td>4.95</td>\n",
       "      <td>0</td>\n",
       "    </tr>\n",
       "  </tbody>\n",
       "</table>\n",
       "<p>5 rows × 31 columns</p>\n",
       "</div>"
      ],
      "text/plain": [
       "     Time        V1        V2        V3        V4        V5        V6  \\\n",
       "0  136330  2.108286 -0.020359 -2.234273 -0.124080  0.559843 -1.315913   \n",
       "1  116819  2.080143 -0.075408 -1.359381  0.261263  0.232201 -0.797886   \n",
       "2   27917  1.152650  0.204938  0.441832  1.211595 -0.254895 -0.383380   \n",
       "3   97443 -0.389692  0.410148  0.616187 -0.686644  1.040312 -0.322199   \n",
       "4   17920 -1.306986  0.183306  3.164803  0.810135  1.529576  2.388322   \n",
       "\n",
       "         V7        V8        V9  ...       V21       V22       V23       V24  \\\n",
       "0  0.631887 -0.385490  0.150628  ...  0.162940  0.519705 -0.091751 -0.379542   \n",
       "1  0.233487 -0.330165  0.493154  ... -0.317765 -0.784150  0.233078 -0.636937   \n",
       "2 -0.004286 -0.019590  0.085094  ...  0.066674  0.209828 -0.054351  0.058103   \n",
       "3  0.523625 -0.037453  1.319237  ...  0.116692  0.685267 -0.182303  0.767857   \n",
       "4  0.551279 -0.054401  1.675481  ... -0.203993  0.556523  0.146513 -1.128693   \n",
       "\n",
       "        V25       V26       V27       V28  Amount  Class  \n",
       "0  0.418822  0.248646 -0.098857 -0.094773    7.70      0  \n",
       "1 -0.191137  0.234986 -0.070648 -0.062794   17.99      0  \n",
       "2  0.515330 -0.299402  0.032551  0.022865   21.00      0  \n",
       "3 -0.242738  0.009678  0.115370  0.176041    6.60      0  \n",
       "4 -0.633623 -0.454903 -0.826329 -0.826186    4.95      0  \n",
       "\n",
       "[5 rows x 31 columns]"
      ]
     },
     "execution_count": 3,
     "metadata": {},
     "output_type": "execute_result"
    }
   ],
   "source": [
    "df.head()"
   ]
  },
  {
   "cell_type": "code",
   "execution_count": 4,
   "metadata": {},
   "outputs": [
    {
     "data": {
      "text/plain": [
       "0    28428\n",
       "1       52\n",
       "Name: Class, dtype: int64"
      ]
     },
     "execution_count": 4,
     "metadata": {},
     "output_type": "execute_result"
    }
   ],
   "source": [
    "df['Class'].value_counts() # 각걱 class에 몇개의 data가 있는지 확인"
   ]
  },
  {
   "cell_type": "code",
   "execution_count": 5,
   "metadata": {},
   "outputs": [],
   "source": [
    "scaler = StandardScaler() # Scaling\n",
    "df_new = df.drop(columns=\"Class\")\n",
    "scaler.fit_transform(df_new)\n",
    "df_new = pd.DataFrame(scaler.fit_transform(df_new), columns = df_new.columns)"
   ]
  },
  {
   "cell_type": "code",
   "execution_count": 6,
   "metadata": {},
   "outputs": [
    {
     "data": {
      "text/html": [
       "<div>\n",
       "<style scoped>\n",
       "    .dataframe tbody tr th:only-of-type {\n",
       "        vertical-align: middle;\n",
       "    }\n",
       "\n",
       "    .dataframe tbody tr th {\n",
       "        vertical-align: top;\n",
       "    }\n",
       "\n",
       "    .dataframe thead th {\n",
       "        text-align: right;\n",
       "    }\n",
       "</style>\n",
       "<table border=\"1\" class=\"dataframe\">\n",
       "  <thead>\n",
       "    <tr style=\"text-align: right;\">\n",
       "      <th></th>\n",
       "      <th>Time</th>\n",
       "      <th>V1</th>\n",
       "      <th>V2</th>\n",
       "      <th>V3</th>\n",
       "      <th>V4</th>\n",
       "      <th>V5</th>\n",
       "      <th>V6</th>\n",
       "      <th>V7</th>\n",
       "      <th>V8</th>\n",
       "      <th>V9</th>\n",
       "      <th>...</th>\n",
       "      <th>V21</th>\n",
       "      <th>V22</th>\n",
       "      <th>V23</th>\n",
       "      <th>V24</th>\n",
       "      <th>V25</th>\n",
       "      <th>V26</th>\n",
       "      <th>V27</th>\n",
       "      <th>V28</th>\n",
       "      <th>Amount</th>\n",
       "      <th>class</th>\n",
       "    </tr>\n",
       "  </thead>\n",
       "  <tbody>\n",
       "    <tr>\n",
       "      <td>0</td>\n",
       "      <td>0.875992</td>\n",
       "      <td>1.102273</td>\n",
       "      <td>-0.013837</td>\n",
       "      <td>-1.519427</td>\n",
       "      <td>-0.092494</td>\n",
       "      <td>0.415984</td>\n",
       "      <td>-0.996862</td>\n",
       "      <td>0.529260</td>\n",
       "      <td>-0.325542</td>\n",
       "      <td>0.140034</td>\n",
       "      <td>...</td>\n",
       "      <td>0.217877</td>\n",
       "      <td>0.717147</td>\n",
       "      <td>-0.171055</td>\n",
       "      <td>-0.622575</td>\n",
       "      <td>0.811479</td>\n",
       "      <td>0.520065</td>\n",
       "      <td>-0.244661</td>\n",
       "      <td>-0.298899</td>\n",
       "      <td>-0.341627</td>\n",
       "      <td>0</td>\n",
       "    </tr>\n",
       "    <tr>\n",
       "      <td>1</td>\n",
       "      <td>0.465992</td>\n",
       "      <td>1.087628</td>\n",
       "      <td>-0.047477</td>\n",
       "      <td>-0.930583</td>\n",
       "      <td>0.178984</td>\n",
       "      <td>0.173824</td>\n",
       "      <td>-0.604853</td>\n",
       "      <td>0.194623</td>\n",
       "      <td>-0.278678</td>\n",
       "      <td>0.453561</td>\n",
       "      <td>...</td>\n",
       "      <td>-0.431114</td>\n",
       "      <td>-1.088996</td>\n",
       "      <td>0.399380</td>\n",
       "      <td>-1.044356</td>\n",
       "      <td>-0.370659</td>\n",
       "      <td>0.491879</td>\n",
       "      <td>-0.173318</td>\n",
       "      <td>-0.193811</td>\n",
       "      <td>-0.297983</td>\n",
       "      <td>0</td>\n",
       "    </tr>\n",
       "    <tr>\n",
       "      <td>2</td>\n",
       "      <td>-1.402175</td>\n",
       "      <td>0.604964</td>\n",
       "      <td>0.123842</td>\n",
       "      <td>0.281721</td>\n",
       "      <td>0.848501</td>\n",
       "      <td>-0.186188</td>\n",
       "      <td>-0.291182</td>\n",
       "      <td>-0.005096</td>\n",
       "      <td>-0.015599</td>\n",
       "      <td>0.080048</td>\n",
       "      <td>...</td>\n",
       "      <td>0.087910</td>\n",
       "      <td>0.287896</td>\n",
       "      <td>-0.105378</td>\n",
       "      <td>0.094572</td>\n",
       "      <td>0.998518</td>\n",
       "      <td>-0.610760</td>\n",
       "      <td>0.087681</td>\n",
       "      <td>0.087681</td>\n",
       "      <td>-0.285216</td>\n",
       "      <td>0</td>\n",
       "    </tr>\n",
       "    <tr>\n",
       "      <td>3</td>\n",
       "      <td>0.058829</td>\n",
       "      <td>-0.197667</td>\n",
       "      <td>0.249246</td>\n",
       "      <td>0.399070</td>\n",
       "      <td>-0.488826</td>\n",
       "      <td>0.771099</td>\n",
       "      <td>-0.244885</td>\n",
       "      <td>0.438324</td>\n",
       "      <td>-0.030730</td>\n",
       "      <td>1.209704</td>\n",
       "      <td>...</td>\n",
       "      <td>0.155438</td>\n",
       "      <td>0.946489</td>\n",
       "      <td>-0.330075</td>\n",
       "      <td>1.257612</td>\n",
       "      <td>-0.470666</td>\n",
       "      <td>0.026986</td>\n",
       "      <td>0.297138</td>\n",
       "      <td>0.591042</td>\n",
       "      <td>-0.346292</td>\n",
       "      <td>0</td>\n",
       "    </tr>\n",
       "    <tr>\n",
       "      <td>4</td>\n",
       "      <td>-1.612250</td>\n",
       "      <td>-0.675024</td>\n",
       "      <td>0.110623</td>\n",
       "      <td>2.114412</td>\n",
       "      <td>0.565669</td>\n",
       "      <td>1.132714</td>\n",
       "      <td>1.806258</td>\n",
       "      <td>0.461553</td>\n",
       "      <td>-0.045086</td>\n",
       "      <td>1.535788</td>\n",
       "      <td>...</td>\n",
       "      <td>-0.277512</td>\n",
       "      <td>0.768150</td>\n",
       "      <td>0.247363</td>\n",
       "      <td>-1.850173</td>\n",
       "      <td>-1.228224</td>\n",
       "      <td>-0.931617</td>\n",
       "      <td>-2.084501</td>\n",
       "      <td>-2.702442</td>\n",
       "      <td>-0.353291</td>\n",
       "      <td>0</td>\n",
       "    </tr>\n",
       "  </tbody>\n",
       "</table>\n",
       "<p>5 rows × 31 columns</p>\n",
       "</div>"
      ],
      "text/plain": [
       "       Time        V1        V2        V3        V4        V5        V6  \\\n",
       "0  0.875992  1.102273 -0.013837 -1.519427 -0.092494  0.415984 -0.996862   \n",
       "1  0.465992  1.087628 -0.047477 -0.930583  0.178984  0.173824 -0.604853   \n",
       "2 -1.402175  0.604964  0.123842  0.281721  0.848501 -0.186188 -0.291182   \n",
       "3  0.058829 -0.197667  0.249246  0.399070 -0.488826  0.771099 -0.244885   \n",
       "4 -1.612250 -0.675024  0.110623  2.114412  0.565669  1.132714  1.806258   \n",
       "\n",
       "         V7        V8        V9  ...       V21       V22       V23       V24  \\\n",
       "0  0.529260 -0.325542  0.140034  ...  0.217877  0.717147 -0.171055 -0.622575   \n",
       "1  0.194623 -0.278678  0.453561  ... -0.431114 -1.088996  0.399380 -1.044356   \n",
       "2 -0.005096 -0.015599  0.080048  ...  0.087910  0.287896 -0.105378  0.094572   \n",
       "3  0.438324 -0.030730  1.209704  ...  0.155438  0.946489 -0.330075  1.257612   \n",
       "4  0.461553 -0.045086  1.535788  ... -0.277512  0.768150  0.247363 -1.850173   \n",
       "\n",
       "        V25       V26       V27       V28    Amount  class  \n",
       "0  0.811479  0.520065 -0.244661 -0.298899 -0.341627      0  \n",
       "1 -0.370659  0.491879 -0.173318 -0.193811 -0.297983      0  \n",
       "2  0.998518 -0.610760  0.087681  0.087681 -0.285216      0  \n",
       "3 -0.470666  0.026986  0.297138  0.591042 -0.346292      0  \n",
       "4 -1.228224 -0.931617 -2.084501 -2.702442 -0.353291      0  \n",
       "\n",
       "[5 rows x 31 columns]"
      ]
     },
     "execution_count": 6,
     "metadata": {},
     "output_type": "execute_result"
    }
   ],
   "source": [
    "target = pd.Series(df.Class, dtype = \"category\")\n",
    "df_new['class'] = target # class 0: malignant, class 1: benign\n",
    "df_new.head()"
   ]
  },
  {
   "cell_type": "markdown",
   "metadata": {},
   "source": [
    "# Logistic Regression "
   ]
  },
  {
   "cell_type": "code",
   "execution_count": 7,
   "metadata": {},
   "outputs": [],
   "source": [
    "X_train, X_test, y_train, y_test = train_test_split(df.iloc[:, :-1], df.iloc[:, -1], random_state = 0)\n",
    "# train, test set 나누기"
   ]
  },
  {
   "cell_type": "code",
   "execution_count": 8,
   "metadata": {},
   "outputs": [
    {
     "data": {
      "text/plain": [
       "((21360, 30), (7120, 30), (21360,), (7120,))"
      ]
     },
     "execution_count": 8,
     "metadata": {},
     "output_type": "execute_result"
    }
   ],
   "source": [
    "X_train.shape, X_test.shape, y_train.shape, y_test.shape #train, test set 확인"
   ]
  },
  {
   "cell_type": "code",
   "execution_count": 9,
   "metadata": {
    "scrolled": true
   },
   "outputs": [
    {
     "name": "stderr",
     "output_type": "stream",
     "text": [
      "C:\\Anaconda3\\lib\\site-packages\\sklearn\\linear_model\\logistic.py:432: FutureWarning: Default solver will be changed to 'lbfgs' in 0.22. Specify a solver to silence this warning.\n",
      "  FutureWarning)\n"
     ]
    },
    {
     "data": {
      "text/plain": [
       "LogisticRegression(C=1.0, class_weight=None, dual=False, fit_intercept=True,\n",
       "                   intercept_scaling=1, l1_ratio=None, max_iter=100,\n",
       "                   multi_class='warn', n_jobs=None, penalty='l2',\n",
       "                   random_state=None, solver='warn', tol=0.0001, verbose=0,\n",
       "                   warm_start=False)"
      ]
     },
     "execution_count": 9,
     "metadata": {},
     "output_type": "execute_result"
    }
   ],
   "source": [
    "classifier = LogisticRegression() #classifier는 logistic Reg\n",
    "classifier.fit(X_train, y_train) #fit method로 학습"
   ]
  },
  {
   "cell_type": "code",
   "execution_count": 10,
   "metadata": {},
   "outputs": [
    {
     "data": {
      "text/plain": [
       "array([0, 0, 0, ..., 0, 0, 0], dtype=int64)"
      ]
     },
     "execution_count": 10,
     "metadata": {},
     "output_type": "execute_result"
    }
   ],
   "source": [
    "y_pred = classifier.predict(X_test) # class 예측\n",
    "y_pred"
   ]
  },
  {
   "cell_type": "code",
   "execution_count": 11,
   "metadata": {
    "scrolled": true
   },
   "outputs": [
    {
     "data": {
      "text/plain": [
       "array([[9.99209106e-01, 7.90894246e-04],\n",
       "       [9.99738708e-01, 2.61292060e-04],\n",
       "       [9.99998580e-01, 1.42049928e-06],\n",
       "       ...,\n",
       "       [9.96341932e-01, 3.65806843e-03],\n",
       "       [9.99395800e-01, 6.04199595e-04],\n",
       "       [9.99578107e-01, 4.21893358e-04]])"
      ]
     },
     "execution_count": 11,
     "metadata": {},
     "output_type": "execute_result"
    }
   ],
   "source": [
    "classifier.predict_proba(X_test) # The returned estimates for all classes are ordered by the label of classes."
   ]
  },
  {
   "attachments": {
    "image.png": {
     "image/png": "[encoded data removed]"
    }
   },
   "cell_type": "markdown",
   "metadata": {},
   "source": [
    "### mean accuracy \n",
    "\n",
    "정확도(accuracy)는 전체 샘플 중 맞게 예측한 샘플 수의 비율을 뜻한다. 높을수록 좋은 모형이다. 일반적으로 학습에서 최적화 목적함수로 사용된다.\n",
    "![image.png](attachment:image.png)"
   ]
  },
  {
   "cell_type": "code",
   "execution_count": 12,
   "metadata": {},
   "outputs": [
    {
     "data": {
      "text/plain": [
       "0.998876404494382"
      ]
     },
     "execution_count": 12,
     "metadata": {},
     "output_type": "execute_result"
    }
   ],
   "source": [
    "classifier.score(X_test, y_test)#mean accuracy"
   ]
  },
  {
   "attachments": {
    "image.png": {
     "image/png": "[encoded data removed]"
    }
   },
   "cell_type": "markdown",
   "metadata": {},
   "source": [
    "### confusion matrix\n",
    "\n",
    "![image.png](attachment:image.png)\n",
    "\n",
    "분류결과표(Confusion Matrix)는 타겟의 원래 클래스와 모형이 예측한 클래스가 일치하는지는 갯수로 센 결과를 표나 나타낸 것이다. 정답 클래스는 행(row)으로 예측한 클래스는 열(column)로 나타낸다."
   ]
  },
  {
   "cell_type": "code",
   "execution_count": 13,
   "metadata": {},
   "outputs": [],
   "source": [
    "from sklearn.metrics import *"
   ]
  },
  {
   "cell_type": "code",
   "execution_count": 14,
   "metadata": {},
   "outputs": [
    {
     "data": {
      "text/plain": [
       "array([[7108,    3],\n",
       "       [   5,    4]], dtype=int64)"
      ]
     },
     "execution_count": 14,
     "metadata": {},
     "output_type": "execute_result"
    }
   ],
   "source": [
    "confusion_matrix(y_test, y_pred)"
   ]
  },
  {
   "cell_type": "markdown",
   "metadata": {},
   "source": [
    "confusion matrix로 accuracy 계산하기\n",
    "accuracy = (7108+4)/(7108+3+5+4) = 0.9988764045"
   ]
  },
  {
   "attachments": {
    "image.png": {
     "image/png": "[encoded data removed]"
    }
   },
   "cell_type": "markdown",
   "metadata": {},
   "source": [
    "### score\n",
    "\n",
    "##### precision\n",
    "정밀도(precision)은 양성 클래스에 속한다고 출력한 샘플 중 실제로 양성 클래스에 속하는 샘플 수의 비율을 말한다. 높을수록 좋은 모형이다. FDS의 경우, 사기 거래라고 판단한 거래 중 실제 사기 거래의 비율이 된다.\n",
    "![image.png](attachment:image.png)\n",
    "\n"
   ]
  },
  {
   "attachments": {
    "image.png": {
     "image/png": "[encoded data removed]"
    }
   },
   "cell_type": "markdown",
   "metadata": {},
   "source": [
    "##### recall (=sensitivity)\n",
    "재현율(recall)은 실제 양성 클래스에 속한 표본 중에 양성 클래스에 속한다고 출력한 표본의 수의 비율을 뜻한다. 높을수록 좋은 모형이다. FDS의 경우 실제 사기 거래 중에서 실제 사기 거래라고 예측한 거래의 비율이 된다. TPR(true positive rate) 또는 민감도(sensitivity)라고도 한다.\n",
    "![image.png](attachment:image.png)\n"
   ]
  },
  {
   "attachments": {
    "image.png": {
     "image/png": "[encoded data removed]"
    }
   },
   "cell_type": "markdown",
   "metadata": {},
   "source": [
    "##### fall out\n",
    "위양성율(fall-out)은 실제 양성 클래스에 속하지 않는 표본 중에 양성 클래스에 속한다고 출력한 표본의 비율을 말한다. 다른 평가점수와 달리 낮을수록 좋은 모형이다. FDS의 경우에는 실제로는 정상 거래인데 FDS가 사기 거래라고 예측한 거래의 비율이 된다. FPR(false positive rate)또는 1에서 위양성률의 값을 뺀 값을 특이도(specificity)라고도 한다.\n",
    "![image.png](attachment:image.png)"
   ]
  },
  {
   "cell_type": "code",
   "execution_count": 15,
   "metadata": {},
   "outputs": [
    {
     "name": "stdout",
     "output_type": "stream",
     "text": [
      "precision = 0.9992970617179812\n",
      "recall = 0.9995781184081002\n",
      "fallout = 0.5555555555555556\n"
     ]
    }
   ],
   "source": [
    "precision = 7108 / (7108 + 5)\n",
    "recall = 7108 / (7108 + 3)\n",
    "fallout = 5 / (5 + 4)\n",
    "print(\"precision =\", precision)\n",
    "print(\"recall =\", recall)\n",
    "print(\"fallout =\", fallout)"
   ]
  },
  {
   "attachments": {
    "image.png": {
     "image/png": "[encoded data removed]"
    }
   },
   "cell_type": "markdown",
   "metadata": {},
   "source": [
    "##### f1 score\n",
    "정밀도와 재현율의 가중조화평균(weight harmonic average)을 F점수(F-score)라고 한다. 정밀도에 주어지는 가중치를 베타(beta)라고 한다.\n",
    "\n",
    "![image.png](attachment:image.png)\n",
    " \n",
    "베타가 1인 경우를 특별히 F1점수라고 한다.\n",
    "\n",
    "![image.png](attachment:image.png)"
   ]
  },
  {
   "cell_type": "code",
   "execution_count": 16,
   "metadata": {},
   "outputs": [
    {
     "data": {
      "text/plain": [
       "0.5"
      ]
     },
     "execution_count": 16,
     "metadata": {},
     "output_type": "execute_result"
    }
   ],
   "source": [
    "f1_score(y_test, y_pred) # f1 score"
   ]
  },
  {
   "cell_type": "code",
   "execution_count": 17,
   "metadata": {},
   "outputs": [
    {
     "name": "stdout",
     "output_type": "stream",
     "text": [
      "              precision    recall  f1-score   support\n",
      "\n",
      "     class 0       1.00      1.00      1.00      7111\n",
      "     class 1       0.57      0.44      0.50         9\n",
      "\n",
      "    accuracy                           1.00      7120\n",
      "   macro avg       0.79      0.72      0.75      7120\n",
      "weighted avg       1.00      1.00      1.00      7120\n",
      "\n"
     ]
    }
   ],
   "source": [
    "print(classification_report(y_test, y_pred, target_names=['class 0', 'class 1']))"
   ]
  },
  {
   "cell_type": "markdown",
   "metadata": {},
   "source": []
  },
  {
   "cell_type": "markdown",
   "metadata": {},
   "source": [
    "# ROC curve"
   ]
  },
  {
   "cell_type": "code",
   "execution_count": 25,
   "metadata": {},
   "outputs": [
    {
     "data": {
      "text/plain": [
       "(array([0.00000000e+00, 0.00000000e+00, 0.00000000e+00, 1.40627197e-04,\n",
       "        1.40627197e-04, 4.21881592e-04, 4.21881592e-04, 7.03135986e-04,\n",
       "        7.03135986e-04, 1.54689917e-03, 1.54689917e-03, 2.95317114e-03,\n",
       "        2.95317114e-03, 8.85951343e-03, 8.85951343e-03, 2.77035579e-02,\n",
       "        2.77035579e-02, 3.54802419e-01, 3.55083673e-01, 1.00000000e+00]),\n",
       " array([0.        , 0.11111111, 0.22222222, 0.22222222, 0.33333333,\n",
       "        0.33333333, 0.44444444, 0.44444444, 0.55555556, 0.55555556,\n",
       "        0.66666667, 0.66666667, 0.77777778, 0.77777778, 0.88888889,\n",
       "        0.88888889, 1.        , 1.        , 1.        , 1.        ]),\n",
       " array([1.99999996e+00, 9.99999963e-01, 9.99974303e-01, 9.98710106e-01,\n",
       "        9.61486138e-01, 6.37759039e-01, 5.48064850e-01, 3.67719455e-01,\n",
       "        3.61161720e-01, 1.36474313e-01, 1.33988558e-01, 8.67476930e-02,\n",
       "        7.93860346e-02, 3.25721684e-02, 3.22297013e-02, 1.35002554e-02,\n",
       "        1.33770370e-02, 5.96636188e-04, 5.96320953e-04, 5.44779805e-12]))"
      ]
     },
     "execution_count": 25,
     "metadata": {},
     "output_type": "execute_result"
    }
   ],
   "source": [
    "fpr, tpr, thresholds = roc_curve(y_test, classifier.predict_proba(X_test)[:,1])\n",
    "# 순서대로 fpr, tpr, thresholds를 리턴함!\n",
    "# fpr = 1-specificity\n",
    "# tpr = sensitivity\n",
    "# thresholds = 해당 fpr, tpr을 리턴할 때의 thesholds(cut-off) 값!\n",
    "fpr, tpr, thresholds"
   ]
  },
  {
   "cell_type": "code",
   "execution_count": 26,
   "metadata": {},
   "outputs": [],
   "source": [
    "import matplotlib.pyplot as plt\n",
    "%matplotlib inline"
   ]
  },
  {
   "cell_type": "markdown",
   "metadata": {},
   "source": [
    "ROC(Receiver Operator Characteristic) 커브는 클래스 판별 기준값의 변화에 따른 위양성률(fall-out)과 재현율(recall)의 변화를 시각화한 것이다."
   ]
  },
  {
   "cell_type": "code",
   "execution_count": 27,
   "metadata": {},
   "outputs": [
    {
     "data": {
      "text/plain": [
       "Text(0, 0.5, 'Sensitivity')"
      ]
     },
     "execution_count": 27,
     "metadata": {},
     "output_type": "execute_result"
    },
    {
     "data": {
      "image/png": "[encoded data removed]",
      "text/plain": [
       "<Figure size 432x288 with 1 Axes>"
      ]
     },
     "metadata": {
      "needs_background": "light"
     },
     "output_type": "display_data"
    }
   ],
   "source": [
    "x = fpr #recall\n",
    "y = tpr #fall out\n",
    "\n",
    "plt.plot(x,y) # 간단하게 ROC 그려볼 수 있음.\n",
    "plt.xlabel('1-Specificity')\n",
    "plt.ylabel('Sensitivity')"
   ]
  },
  {
   "cell_type": "code",
   "execution_count": 28,
   "metadata": {},
   "outputs": [
    {
     "data": {
      "image/png": "[encoded data removed]",
      "text/plain": [
       "<Figure size 432x288 with 1 Axes>"
      ]
     },
     "metadata": {
      "needs_background": "light"
     },
     "output_type": "display_data"
    }
   ],
   "source": [
    "plt.plot(fpr, tpr, 'o-', label=\"Logistic Regression\") \n",
    "plt.plot([0, 1], [0, 1], 'k--')\n",
    "plt.plot([fallout], [recall], 'ro', ms=10) # 현재 cutoff value 값 \n",
    "plt.xlabel('1-Specificity')\n",
    "plt.ylabel('Sensitivity')\n",
    "plt.show()"
   ]
  },
  {
   "cell_type": "code",
   "execution_count": 29,
   "metadata": {},
   "outputs": [
    {
     "name": "stdout",
     "output_type": "stream",
     "text": [
      "Area under the ROC curve : 0.995297\n"
     ]
    }
   ],
   "source": [
    "roc_auc = auc(fpr, tpr)\n",
    "print(\"Area under the ROC curve : %f\" % roc_auc)"
   ]
  },
  {
   "cell_type": "code",
   "execution_count": 30,
   "metadata": {},
   "outputs": [],
   "source": [
    "res = [[fpr_i, tpr_i, thres_i] for fpr_i, tpr_i, thres_i in zip(fpr, tpr, thresholds)]"
   ]
  },
  {
   "cell_type": "code",
   "execution_count": 31,
   "metadata": {},
   "outputs": [
    {
     "data": {
      "text/plain": [
       "[[0.0, 0.0, 1.99999996277483],\n",
       " [0.0, 0.1111111111111111, 0.9999999627748299],\n",
       " [0.0, 0.2222222222222222, 0.9999743030401465],\n",
       " [0.0001406271972999578, 0.2222222222222222, 0.9987101056722099],\n",
       " [0.0001406271972999578, 0.3333333333333333, 0.961486138324919],\n",
       " [0.00042188159189987344, 0.3333333333333333, 0.6377590391882765],\n",
       " [0.00042188159189987344, 0.4444444444444444, 0.5480648497676882],\n",
       " [0.0007031359864997891, 0.4444444444444444, 0.3677194548486106],\n",
       " [0.0007031359864997891, 0.5555555555555556, 0.36116172003101726],\n",
       " [0.001546899170299536, 0.5555555555555556, 0.1364743131323381],\n",
       " [0.001546899170299536, 0.6666666666666666, 0.13398855807607823],\n",
       " [0.002953171143299114, 0.6666666666666666, 0.08674769295102296],\n",
       " [0.002953171143299114, 0.7777777777777778, 0.07938603463799468],\n",
       " [0.008859513429897343, 0.7777777777777778, 0.03257216838073841],\n",
       " [0.008859513429897343, 0.8888888888888888, 0.03222970134151204],\n",
       " [0.02770355786809169, 0.8888888888888888, 0.013500255362707096],\n",
       " [0.02770355786809169, 1.0, 0.013377036978403109],\n",
       " [0.35480241878779356, 1.0, 0.000596636187807372],\n",
       " [0.3550836731823935, 1.0, 0.0005963209532274108],\n",
       " [1.0, 1.0, 5.447798052241285e-12]]"
      ]
     },
     "execution_count": 31,
     "metadata": {},
     "output_type": "execute_result"
    }
   ],
   "source": [
    "res # 이런 식으로 각 대응되는 값끼리 묶을 수 있습니다."
   ]
  },
  {
   "cell_type": "markdown",
   "metadata": {},
   "source": [
    "### optimal cut-off 찾기\n",
    "\n",
    "#### 1st"
   ]
  },
  {
   "cell_type": "code",
   "execution_count": 32,
   "metadata": {},
   "outputs": [
    {
     "data": {
      "text/plain": [
       "0.013377036978403109"
      ]
     },
     "execution_count": 32,
     "metadata": {},
     "output_type": "execute_result"
    }
   ],
   "source": [
    "optimal_idx = np.argmax(tpr - fpr)\n",
    "optimal_threshold = thresholds[optimal_idx]\n",
    "optimal_threshold"
   ]
  },
  {
   "cell_type": "markdown",
   "metadata": {},
   "source": [
    "#### 2nd"
   ]
  },
  {
   "cell_type": "code",
   "execution_count": 33,
   "metadata": {},
   "outputs": [
    {
     "name": "stderr",
     "output_type": "stream",
     "text": [
      "C:\\Anaconda3\\lib\\site-packages\\ipykernel_launcher.py:3: FutureWarning: \n",
      ".ix is deprecated. Please use\n",
      ".loc for label based indexing or\n",
      ".iloc for positional indexing\n",
      "\n",
      "See the documentation here:\n",
      "http://pandas.pydata.org/pandas-docs/stable/user_guide/indexing.html#ix-indexer-is-deprecated\n",
      "  This is separate from the ipykernel package so we can avoid doing imports until\n"
     ]
    },
    {
     "data": {
      "text/html": [
       "<div>\n",
       "<style scoped>\n",
       "    .dataframe tbody tr th:only-of-type {\n",
       "        vertical-align: middle;\n",
       "    }\n",
       "\n",
       "    .dataframe tbody tr th {\n",
       "        vertical-align: top;\n",
       "    }\n",
       "\n",
       "    .dataframe thead th {\n",
       "        text-align: right;\n",
       "    }\n",
       "</style>\n",
       "<table border=\"1\" class=\"dataframe\">\n",
       "  <thead>\n",
       "    <tr style=\"text-align: right;\">\n",
       "      <th></th>\n",
       "      <th>fpr</th>\n",
       "      <th>tpr</th>\n",
       "      <th>1-fpr</th>\n",
       "      <th>tf</th>\n",
       "      <th>thresholds</th>\n",
       "    </tr>\n",
       "  </thead>\n",
       "  <tbody>\n",
       "    <tr>\n",
       "      <td>16</td>\n",
       "      <td>0.027704</td>\n",
       "      <td>1.0</td>\n",
       "      <td>0.972296</td>\n",
       "      <td>0.027704</td>\n",
       "      <td>0.013377</td>\n",
       "    </tr>\n",
       "  </tbody>\n",
       "</table>\n",
       "</div>"
      ],
      "text/plain": [
       "         fpr  tpr     1-fpr        tf  thresholds\n",
       "16  0.027704  1.0  0.972296  0.027704    0.013377"
      ]
     },
     "execution_count": 33,
     "metadata": {},
     "output_type": "execute_result"
    }
   ],
   "source": [
    "i = np.arange(len(tpr)) # index for df\n",
    "roc = pd.DataFrame({'fpr' : pd.Series(fpr, index=i),'tpr' : pd.Series(tpr, index = i), '1-fpr' : pd.Series(1-fpr, index = i), 'tf' : pd.Series(tpr - (1-fpr), index = i), 'thresholds' : pd.Series(thresholds, index = i)})\n",
    "roc.ix[(roc.tf-0).abs().argsort()[:1]]\n"
   ]
  },
  {
   "cell_type": "markdown",
   "metadata": {},
   "source": [
    "#### 3rd"
   ]
  },
  {
   "cell_type": "code",
   "execution_count": 34,
   "metadata": {
    "scrolled": true
   },
   "outputs": [
    {
     "name": "stderr",
     "output_type": "stream",
     "text": [
      "C:\\Anaconda3\\lib\\site-packages\\ipykernel_launcher.py:3: FutureWarning: \n",
      ".ix is deprecated. Please use\n",
      ".loc for label based indexing or\n",
      ".iloc for positional indexing\n",
      "\n",
      "See the documentation here:\n",
      "http://pandas.pydata.org/pandas-docs/stable/user_guide/indexing.html#ix-indexer-is-deprecated\n",
      "  This is separate from the ipykernel package so we can avoid doing imports until\n"
     ]
    },
    {
     "data": {
      "text/plain": [
       "[0.013377036978403109]"
      ]
     },
     "execution_count": 34,
     "metadata": {},
     "output_type": "execute_result"
    }
   ],
   "source": [
    "i = np.arange(len(tpr)) \n",
    "roc = pd.DataFrame({'tf' : pd.Series(tpr-(1-fpr), index=i), 'thresholds' : pd.Series(thresholds, index=i)})\n",
    "roc_t = roc.ix[(roc.tf-0).abs().argsort()[:1]]\n",
    "threshold = list(roc_t['thresholds'])\n",
    "threshold"
   ]
  },
  {
   "cell_type": "markdown",
   "metadata": {},
   "source": [
    "세가지 방법 모두 같은 결과"
   ]
  },
  {
   "cell_type": "markdown",
   "metadata": {},
   "source": [
    "# 새로운 cut-off 적용"
   ]
  },
  {
   "cell_type": "code",
   "execution_count": 35,
   "metadata": {
    "scrolled": true
   },
   "outputs": [],
   "source": [
    "y_pred_new = np.where(classifier.predict_proba(X_test)[:,1] > threshold, 1, 0)"
   ]
  },
  {
   "cell_type": "code",
   "execution_count": 36,
   "metadata": {},
   "outputs": [
    {
     "data": {
      "text/plain": [
       "array([[6914,  197],\n",
       "       [   1,    8]], dtype=int64)"
      ]
     },
     "execution_count": 36,
     "metadata": {},
     "output_type": "execute_result"
    }
   ],
   "source": [
    "confusion_matrix(y_test2, y_pred_new)"
   ]
  },
  {
   "cell_type": "code",
   "execution_count": 38,
   "metadata": {},
   "outputs": [
    {
     "name": "stdout",
     "output_type": "stream",
     "text": [
      "precision_new = 0.9998553868402025\n",
      "recall_new = 0.9722964421319084\n",
      "fallout_new = 0.1111111111111111\n"
     ]
    }
   ],
   "source": [
    "precision = 6914 / (6914 + 1)\n",
    "recall = 6914 / (6914 + 197)\n",
    "fallout = 1 / (1 + 8)\n",
    "print(\"precision_new =\", precision)\n",
    "print(\"recall_new =\", recall)\n",
    "print(\"fallout_new =\", fallout)"
   ]
  },
  {
   "cell_type": "markdown",
   "metadata": {},
   "source": [
    "### default cut-off = 0.5\n",
    "precision = 0.9992970617179812\n",
    "\n",
    "recall = 0.9995781184081002\n",
    "\n",
    "fallout = 0.5555555555555556\n",
    "\n",
    "### 새로운 cut-off = 0.013377036978403109 적용\n",
    "precision_new = 0.9998553868402025\n",
    "\n",
    "recall_new = 0.9722964421319084\n",
    "\n",
    "fallout_new = 0.1111111111111111\n",
    "\n"
   ]
  }
 ],
 "metadata": {
  "kernelspec": {
   "display_name": "Python 3",
   "language": "python",
   "name": "python3"
  },
  "language_info": {
   "codemirror_mode": {
    "name": "ipython",
    "version": 3
   },
   "file_extension": ".py",
   "mimetype": "text/x-python",
   "name": "python",
   "nbconvert_exporter": "python",
   "pygments_lexer": "ipython3",
   "version": "3.7.4"
  }
 },
 "nbformat": 4,
 "nbformat_minor": 2
}
